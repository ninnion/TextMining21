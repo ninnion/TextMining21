{
  "nbformat": 4,
  "nbformat_minor": 0,
  "metadata": {
    "colab": {
      "name": "TextMining_4.0.ipynb",
      "provenance": [],
      "collapsed_sections": [],
      "toc_visible": true
    },
    "kernelspec": {
      "display_name": "Python 3",
      "language": "python",
      "name": "python3"
    },
    "language_info": {
      "codemirror_mode": {
        "name": "ipython",
        "version": 3
      },
      "file_extension": ".py",
      "mimetype": "text/x-python",
      "name": "python",
      "nbconvert_exporter": "python",
      "pygments_lexer": "ipython3",
      "version": "3.8.5"
    }
  },
  "cells": [
    {
      "cell_type": "code",
      "metadata": {
        "colab": {
          "base_uri": "https://localhost:8080/"
        },
        "id": "hcPaaWwoxbQv",
        "outputId": "325c549f-cbc4-4464-8ce2-b39c71f30547"
      },
      "source": [
        "from tqdm.auto import tqdm\n",
        "import nltk\n",
        "from nltk.stem import PorterStemmer\n",
        "from nltk.tokenize import word_tokenize\n",
        "import pandas as pd\n",
        "import string\n",
        "import re\n",
        "from sklearn.model_selection import train_test_split\n",
        "from sklearn import model_selection, naive_bayes, svm\n",
        "from sklearn.feature_extraction.text import TfidfVectorizer\n",
        "import numpy as np\n",
        "from nltk import pos_tag\n",
        "from nltk.corpus import stopwords\n",
        "from nltk.stem import WordNetLemmatizer\n",
        "from sklearn.preprocessing import LabelEncoder\n",
        "from collections import defaultdict\n",
        "from nltk.corpus import wordnet as wn\n",
        "from sklearn.metrics import accuracy_score, precision_recall_fscore_support, classification_report\n",
        "from sklearn.svm import SVC\n",
        "from sklearn import metrics\n",
        "from sklearn.metrics import confusion_matrix\n",
        "import matplotlib.pyplot as plt\n",
        "import seaborn as sns\n",
        "from sklearn.feature_extraction.text import CountVectorizer\n",
        "from sklearn.svm import SVC\n",
        "from sklearn import metrics\n",
        "import datetime\n",
        "import scipy.stats \n",
        "\n",
        "nltk.download('stopwords')\n",
        "nltk.download('wordnet')"
      ],
      "execution_count": 57,
      "outputs": [
        {
          "output_type": "stream",
          "text": [
            "[nltk_data] Downloading package stopwords to /root/nltk_data...\n",
            "[nltk_data]   Package stopwords is already up-to-date!\n",
            "[nltk_data] Downloading package wordnet to /root/nltk_data...\n",
            "[nltk_data]   Package wordnet is already up-to-date!\n"
          ],
          "name": "stdout"
        },
        {
          "output_type": "execute_result",
          "data": {
            "text/plain": [
              "True"
            ]
          },
          "metadata": {
            "tags": []
          },
          "execution_count": 57
        }
      ]
    },
    {
      "cell_type": "code",
      "metadata": {
        "colab": {
          "base_uri": "https://localhost:8080/"
        },
        "id": "zhUWPArTxkda",
        "outputId": "34a94c0e-1be4-4cf5-cc98-46ee0fd60fd0"
      },
      "source": [
        "from google.colab import drive\n",
        "\n",
        "# Mounting Drive inside the Colab notebook\n",
        "drive.mount('/content/drive')"
      ],
      "execution_count": 58,
      "outputs": [
        {
          "output_type": "stream",
          "text": [
            "Drive already mounted at /content/drive; to attempt to forcibly remount, call drive.mount(\"/content/drive\", force_remount=True).\n"
          ],
          "name": "stdout"
        }
      ]
    },
    {
      "cell_type": "code",
      "metadata": {
        "id": "sZgr_26KxbQw"
      },
      "source": [
        "#df1 = pd.read_csv(\"/Users/julianalexander/Library/Mobile Documents/com~apple~CloudDocs/HSG/1. Semester MBI FS2021/8,049,1.00 Text Mining mit Python/TextMining21/Reddit_Julian_TOTAL-klassifiziert.csv\")\n",
        "#df2 = pd.read_csv(\"/Users/julianalexander/Library/Mobile Documents/com~apple~CloudDocs/HSG/1. Semester MBI FS2021/8,049,1.00 Text Mining mit Python/TextMining21/Reddit_Marek_klassifiziert.csv\")\n",
        "#df3 = pd.read_csv(\"/Users/julianalexander/Library/Mobile Documents/com~apple~CloudDocs/HSG/1. Semester MBI FS2021/8,049,1.00 Text Mining mit Python/TextMining21/Reddit_Yonas_Total_Klassifiziert.csv\")"
      ],
      "execution_count": 59,
      "outputs": []
    },
    {
      "cell_type": "code",
      "metadata": {
        "id": "dxZ-7jZI8ByJ"
      },
      "source": [
        "df1 = pd.read_csv(\"/content/drive/MyDrive/Colab Notebooks/data/Reddit_Julian_TOTAL-klassifiziert.csv\")\n",
        "df2 = pd.read_csv(\"/content/drive/MyDrive/Colab Notebooks/data/Reddit_Marek_klassifiziert.csv\")\n",
        "df3 = pd.read_csv(\"/content/drive/MyDrive/Colab Notebooks/data/Reddit_Yonas_Total_Klassifiziert.csv\")\n",
        "\n",
        "dfBTC = pd.read_csv(\"/content/drive/MyDrive/Colab Notebooks/data/Bitcoin-Kurs.csv\", parse_dates=['Date'], index_col = 'Date')\n",
        "submissionsDF = pd.read_csv(\"/content/drive/MyDrive/Colab Notebooks/data/Reddit24062021.csv\", parse_dates=['Date'], index_col = 'Date')"
      ],
      "execution_count": 60,
      "outputs": []
    },
    {
      "cell_type": "code",
      "metadata": {
        "id": "SyjYJzi1xbQy"
      },
      "source": [
        "Atweets = pd.concat([df1, df2, df3], axis=0, join='inner')\n",
        "Atweets = Atweets.sort_values(by='index')\n",
        "Atweets = Atweets.reset_index(drop=True)"
      ],
      "execution_count": 61,
      "outputs": []
    },
    {
      "cell_type": "markdown",
      "metadata": {
        "id": "4b2ZapzE8ByK"
      },
      "source": [
        "# **Preprocessing**"
      ]
    },
    {
      "cell_type": "markdown",
      "metadata": {
        "id": "S5UNhnkLxbQz"
      },
      "source": [
        "Punktuierung"
      ]
    },
    {
      "cell_type": "code",
      "metadata": {
        "id": "ccz_YSWbxbQz"
      },
      "source": [
        "def remove_punctuation(txt):\n",
        "    txt_nopunt = \"\".join([c for c in txt if c not in string.punctuation])\n",
        "    return txt_nopunt"
      ],
      "execution_count": 62,
      "outputs": []
    },
    {
      "cell_type": "code",
      "metadata": {
        "id": "4VKJbe9ExbQ0"
      },
      "source": [
        "Atweets[\"submission\"] = Atweets[\"submission\"].apply(lambda x: remove_punctuation(x))"
      ],
      "execution_count": 63,
      "outputs": []
    },
    {
      "cell_type": "markdown",
      "metadata": {
        "id": "tvzH3h18xbQ0"
      },
      "source": [
        "Tokenisierung"
      ]
    },
    {
      "cell_type": "code",
      "metadata": {
        "id": "x3uLIYehxbQ1"
      },
      "source": [
        "def tokenize(txt):\n",
        "    tokens = re.split(\"\\W+\", txt)\n",
        "    return tokens"
      ],
      "execution_count": 64,
      "outputs": []
    },
    {
      "cell_type": "code",
      "metadata": {
        "id": "OaSiGvjrxbQ1"
      },
      "source": [
        "Atweets[\"submissions_tokenized\"] = Atweets[\"submission\"].apply(lambda x: tokenize(x.lower()))"
      ],
      "execution_count": 65,
      "outputs": []
    },
    {
      "cell_type": "markdown",
      "metadata": {
        "id": "xfpv9cOwxbQ1"
      },
      "source": [
        "Stopwörter"
      ]
    },
    {
      "cell_type": "code",
      "metadata": {
        "id": "z1OdZPvmxbQ3"
      },
      "source": [
        "stopwords = nltk.corpus.stopwords.words(\"english\")"
      ],
      "execution_count": 66,
      "outputs": []
    },
    {
      "cell_type": "code",
      "metadata": {
        "id": "0CE53d7AxbQ5"
      },
      "source": [
        "stopwords.append(\"ll\")\n",
        "stopwords.append(\"im\")\n",
        "stopwords.append(\"youre\")\n",
        "stopwords.append(\"youve\")\n",
        "stopwords.append(\"youll\")\n",
        "stopwords.append(\"youd\")\n",
        "stopwords.append(\"shes\")\n",
        "stopwords.append(\"its\")\n",
        "stopwords.append(\"thatll\")\n",
        "stopwords.append(\"dont\")\n",
        "stopwords.append(\"shouldve\")\n",
        "stopwords.append(\"arent\")\n",
        "stopwords.append(\"couldnt\")\n",
        "stopwords.append(\"didnt\")\n",
        "stopwords.append(\"doesnt\")\n",
        "stopwords.append(\"hadnt\")\n",
        "stopwords.append(\"havent\")\n",
        "stopwords.append(\"isnt\")\n",
        "stopwords.append(\"mightnt\")\n",
        "stopwords.append(\"neednt\")\n",
        "stopwords.append(\"shant\")\n",
        "stopwords.append(\"shouldnt\")\n",
        "stopwords.append(\"wasnt\")\n",
        "stopwords.append(\"werent\")\n",
        "stopwords.append(\"wont\")\n",
        "stopwords.append(\"wouldnt\")"
      ],
      "execution_count": 67,
      "outputs": []
    },
    {
      "cell_type": "code",
      "metadata": {
        "id": "Bd7A75wCxbQ6"
      },
      "source": [
        "def remove_stopwords(txt_tokenized):\n",
        "    txt_clean = [word for word in txt_tokenized if word not in stopwords]\n",
        "    return txt_clean"
      ],
      "execution_count": 68,
      "outputs": []
    },
    {
      "cell_type": "code",
      "metadata": {
        "id": "y4N-fYXcxbQ7"
      },
      "source": [
        "Atweets[\"submission_no_stopwords\"] = Atweets[\"submissions_tokenized\"].apply(lambda x: remove_stopwords(x))"
      ],
      "execution_count": 69,
      "outputs": []
    },
    {
      "cell_type": "markdown",
      "metadata": {
        "id": "6OAJ6lpPxbQ7"
      },
      "source": [
        "Stemming"
      ]
    },
    {
      "cell_type": "code",
      "metadata": {
        "id": "B8Gp8pyoxbQ8"
      },
      "source": [
        "ps = PorterStemmer()"
      ],
      "execution_count": 70,
      "outputs": []
    },
    {
      "cell_type": "code",
      "metadata": {
        "id": "V-Ascxc8xbQ8"
      },
      "source": [
        "def stemming(tokenized_text):\n",
        "    text = [ps.stem(word) for word in tokenized_text]\n",
        "    return text"
      ],
      "execution_count": 71,
      "outputs": []
    },
    {
      "cell_type": "code",
      "metadata": {
        "id": "TEaezJeIxbQ8"
      },
      "source": [
        "Atweets[\"submission_stemmed\"] = Atweets[\"submission_no_stopwords\"].apply(lambda x: stemming(x))"
      ],
      "execution_count": 72,
      "outputs": []
    },
    {
      "cell_type": "markdown",
      "metadata": {
        "id": "Gp4OG0rQxbQ8"
      },
      "source": [
        "Lemmatisierung"
      ]
    },
    {
      "cell_type": "code",
      "metadata": {
        "id": "WhnmEOx9xbQ8"
      },
      "source": [
        "wn = nltk.WordNetLemmatizer()"
      ],
      "execution_count": 73,
      "outputs": []
    },
    {
      "cell_type": "code",
      "metadata": {
        "id": "4gLtR6WNxbQ9"
      },
      "source": [
        "def lemmatization(token_txt):\n",
        "    text = [wn.lemmatize(word) for word in token_txt]\n",
        "    return text"
      ],
      "execution_count": 74,
      "outputs": []
    },
    {
      "cell_type": "code",
      "metadata": {
        "id": "CPBbTpwbxbQ9"
      },
      "source": [
        "Atweets[\"submission_lemmatized\"] = Atweets[\"submission_no_stopwords\"].apply(lambda x: lemmatization(x))"
      ],
      "execution_count": 75,
      "outputs": []
    },
    {
      "cell_type": "markdown",
      "metadata": {
        "id": "xvm7Exma8ByQ"
      },
      "source": [
        "# Classifier & Feature Extraction"
      ]
    },
    {
      "cell_type": "markdown",
      "metadata": {
        "id": "6Qy_eSJt8ByQ"
      },
      "source": [
        "# A. Train & Test-Set"
      ]
    },
    {
      "cell_type": "code",
      "metadata": {
        "id": "p4EtSJCA4djZ"
      },
      "source": [
        "Atweets[\"submission_cleaned\"] = \" \"\n",
        "\n",
        "for i in range(0, len(Atweets) - 1):\n",
        "  Atweets.loc[i,\"submission_cleaned\"] = \" \".join(Atweets.loc[i,\"submission_stemmed\"])"
      ],
      "execution_count": 76,
      "outputs": []
    },
    {
      "cell_type": "code",
      "metadata": {
        "id": "exxDjF0uxbQ-"
      },
      "source": [
        "Corpus = Atweets.loc[:, \"submission_cleaned\"].values"
      ],
      "execution_count": 77,
      "outputs": []
    },
    {
      "cell_type": "code",
      "metadata": {
        "id": "B2KPJAfixbQ-"
      },
      "source": [
        "Train_X, Test_X, Train_Y, Test_Y = model_selection.train_test_split(Corpus,Atweets['sentiment'],test_size=0.2)"
      ],
      "execution_count": 78,
      "outputs": []
    },
    {
      "cell_type": "code",
      "metadata": {
        "id": "VCTTeDm-0na8"
      },
      "source": [
        "Train_Y_1 = Train_Y\n",
        "Test_Y_1 = Test_Y\n",
        "\n",
        "Train_Y_2 = Train_Y\n",
        "Test_Y_2 = Test_Y\n",
        "\n",
        "Train_Y_1 = np.where(Train_Y_1 == 1.0, 0, Train_Y_1)\n",
        "Train_Y_1 = np.where(Train_Y_1 == 2.0, 0, Train_Y_1)\n",
        "Train_Y_1 = np.where(Train_Y_1 == 3.0, 1, Train_Y_1)\n",
        "Train_Y_1 = np.where(Train_Y_1 == 4.0, 0, Train_Y_1)\n",
        "Train_Y_1 = np.where(Train_Y_1 == 5.0, 0, Train_Y_1)\n",
        "\n",
        "Train_Y_2 = np.where(Train_Y_2 == 1.0, 1, Train_Y_2)\n",
        "Train_Y_2 = np.where(Train_Y_2 == 2.0, 1, Train_Y_2)\n",
        "Train_Y_2 = np.where(Train_Y_2 == 3.0, 2, Train_Y_2)\n",
        "Train_Y_2 = np.where(Train_Y_2 == 4.0, 3, Train_Y_2)\n",
        "Train_Y_2 = np.where(Train_Y_2 == 5.0, 3, Train_Y_2)\n",
        "\n",
        "\n",
        "Test_Y_1 = np.where(Test_Y_1 == 1.0, 0, Test_Y_1)\n",
        "Test_Y_1 = np.where(Test_Y_1 == 2.0, 0, Test_Y_1)\n",
        "Test_Y_1 = np.where(Test_Y_1 == 3.0, 1, Test_Y_1)\n",
        "Test_Y_1 = np.where(Test_Y_1 == 4.0, 0, Test_Y_1)\n",
        "Test_Y_1 = np.where(Test_Y_1 == 5.0, 0, Test_Y_1)\n",
        "\n",
        "Test_Y_2 = np.where(Test_Y_2 == 1.0, 1, Test_Y_2)\n",
        "Test_Y_2 = np.where(Test_Y_2 == 2.0, 1, Test_Y_2)\n",
        "Test_Y_2 = np.where(Test_Y_2 == 3.0, 2, Test_Y_2)\n",
        "Test_Y_2 = np.where(Test_Y_2 == 4.0, 3, Test_Y_2)\n",
        "Test_Y_2 = np.where(Test_Y_2 == 5.0, 3, Test_Y_2)"
      ],
      "execution_count": 79,
      "outputs": []
    },
    {
      "cell_type": "markdown",
      "metadata": {
        "id": "ZcVnl3BF8ByR"
      },
      "source": [
        "# B. Feature Extraction: TF-IDF-Vectorizer"
      ]
    },
    {
      "cell_type": "code",
      "metadata": {
        "id": "--IOQjAhxbQ-"
      },
      "source": [
        "Tfidf_vect = TfidfVectorizer(max_features=12842)\n",
        "Tfidf_vect.fit(Corpus)\n",
        "Train_X_Tfidf = Tfidf_vect.transform(Train_X)\n",
        "Test_X_Tfidf = Tfidf_vect.transform(Test_X)"
      ],
      "execution_count": 80,
      "outputs": []
    },
    {
      "cell_type": "markdown",
      "metadata": {
        "id": "RYrCnhI38ByS"
      },
      "source": [
        "## B.1. Naive Bayes Classifier (MultinomialNB)"
      ]
    },
    {
      "cell_type": "code",
      "metadata": {
        "colab": {
          "base_uri": "https://localhost:8080/"
        },
        "id": "_atgmL1XxbQ_",
        "outputId": "8bee5bc7-e62b-4066-b17a-6dd75b8544a9"
      },
      "source": [
        "# fit the training dataset on the NB classifier\n",
        "Naive = naive_bayes.MultinomialNB()\n",
        "Naive.fit(Train_X_Tfidf,Train_Y_2)\n",
        "# predict the labels on validation dataset\n",
        "predictions_NB = Naive.predict(Test_X_Tfidf)\n",
        "# Use accuracy_score function to get the accuracy\n",
        "print(\"Naive Bayes Accuracy Score -> \",accuracy_score(predictions_NB, Test_Y_2)*100)"
      ],
      "execution_count": 81,
      "outputs": [
        {
          "output_type": "stream",
          "text": [
            "Naive Bayes Accuracy Score ->  74.20965058236273\n"
          ],
          "name": "stdout"
        }
      ]
    },
    {
      "cell_type": "markdown",
      "metadata": {
        "id": "ORKdkHBTxbQ_"
      },
      "source": [
        "**Precision, Recall & F-score**"
      ]
    },
    {
      "cell_type": "code",
      "metadata": {
        "id": "F9EMfI5hxbQ_"
      },
      "source": [
        "# precision_recall_fscore_support(predictions_NB, Test_Y_2, average='weighted')"
      ],
      "execution_count": 82,
      "outputs": []
    },
    {
      "cell_type": "code",
      "metadata": {
        "colab": {
          "base_uri": "https://localhost:8080/"
        },
        "id": "fxLads2x8ByT",
        "outputId": "0b74c199-c304-45bd-a033-2349d447031d"
      },
      "source": [
        "mnb_scores = precision_recall_fscore_support(Test_Y_2, predictions_NB, average='weighted')\n",
        "print(f'Naives Bayes Precision Score: {mnb_scores[0]*100:.2f}%')\n",
        "print(f'Naives Bayes Recall Score: {mnb_scores[1]*100:.2f}%')\n",
        "print(f'Naives Bayes F-Score Score: {mnb_scores[2]*100:.2f}%')"
      ],
      "execution_count": 83,
      "outputs": [
        {
          "output_type": "stream",
          "text": [
            "Naives Bayes Precision Score: 55.07%\n",
            "Naives Bayes Recall Score: 74.21%\n",
            "Naives Bayes F-Score Score: 63.22%\n"
          ],
          "name": "stdout"
        },
        {
          "output_type": "stream",
          "text": [
            "/usr/local/lib/python3.7/dist-packages/sklearn/metrics/_classification.py:1272: UndefinedMetricWarning: Precision and F-score are ill-defined and being set to 0.0 in labels with no predicted samples. Use `zero_division` parameter to control this behavior.\n",
            "  _warn_prf(average, modifier, msg_start, len(result))\n"
          ],
          "name": "stderr"
        }
      ]
    },
    {
      "cell_type": "markdown",
      "metadata": {
        "id": "ETeJaD0z8ByU"
      },
      "source": [
        "**Naive Bayes Predictions - Confusion Matrix**"
      ]
    },
    {
      "cell_type": "code",
      "metadata": {
        "colab": {
          "base_uri": "https://localhost:8080/",
          "height": 516
        },
        "id": "agpzZeu4xbRA",
        "outputId": "6d711f7e-1709-4f49-9e40-86b26bf23855"
      },
      "source": [
        "# determine the prediction confusion matrix\n",
        "mat = confusion_matrix(Test_Y_2, predictions_NB)\n",
        "\n",
        "# init the plot\n",
        "plt.figure(figsize=(8, 8))\n",
        "\n",
        "# plot confusion matrix heatmap\n",
        "sns.heatmap(mat.T, square=True, annot=True, fmt='d', cbar=False, cmap='BuGn_r')\n",
        "\n",
        "# add plot axis labels\n",
        "plt.xlabel('[true class label $y_{i}$]')\n",
        "plt.ylabel('[predicted class label $y_{i}\\'$]')\n",
        "plt.tick_params(axis='both', which='major', labelsize=8, labelbottom = False, bottom=False, top = False, left = False, labeltop=True)\n",
        "\n",
        "# add plot title\n",
        "plt.title('Naive Bayes Predictions - Confusion Matrix');"
      ],
      "execution_count": 84,
      "outputs": [
        {
          "output_type": "display_data",
          "data": {
            "image/png": "[encoded data removed]",
            "text/plain": [
              "<Figure size 576x576 with 1 Axes>"
            ]
          },
          "metadata": {
            "tags": [],
            "needs_background": "light"
          }
        }
      ]
    },
    {
      "cell_type": "markdown",
      "metadata": {
        "id": "oRpcVjLDxbRB"
      },
      "source": [
        "## B.2. Support Vector Machines Classifier (SVM)"
      ]
    },
    {
      "cell_type": "code",
      "metadata": {
        "colab": {
          "base_uri": "https://localhost:8080/"
        },
        "id": "1LkVJYr4xbRB",
        "outputId": "ef59b5c0-48b5-420b-b722-ba502b2fc757"
      },
      "source": [
        "# Classifier - Algorithm - SVM\n",
        "# fit the training dataset on the classifier\n",
        "SVM = SVC(C=1.0, kernel='linear', degree=3, gamma='auto', random_state = 123)\n",
        "SVM.fit(Train_X_Tfidf,Train_Y_2)\n",
        "# predict the labels on validation dataset\n",
        "predictions_SVM = SVM.predict(Test_X_Tfidf)\n",
        "# Use accuracy_score function to get the accuracy\n",
        "# print(\"SVM Accuracy Score -> \",accuracy_score(predictions_SVM, Test_Y_2)*100)\n",
        "SVM_accuracy = accuracy_score(predictions_SVM, Test_Y_2)*100\n",
        "print(f'SVM Accuracy Score: {SVM_accuracy:.2f}%')"
      ],
      "execution_count": 85,
      "outputs": [
        {
          "output_type": "stream",
          "text": [
            "SVM Accuracy Score: 75.37%\n"
          ],
          "name": "stdout"
        }
      ]
    },
    {
      "cell_type": "markdown",
      "metadata": {
        "id": "ox5iWQW_8ByV"
      },
      "source": [
        "**Precision, Recall & F-score**"
      ]
    },
    {
      "cell_type": "code",
      "metadata": {
        "id": "SRrWVvAl8ByV"
      },
      "source": [
        "# precision_recall_fscore_support(predictions_SVM, Test_Y_2, average='weighted')"
      ],
      "execution_count": 86,
      "outputs": []
    },
    {
      "cell_type": "code",
      "metadata": {
        "colab": {
          "base_uri": "https://localhost:8080/"
        },
        "id": "_jzrcLBm8ByV",
        "outputId": "4de0ac5a-c4f8-488e-ff93-fee6bcae0f35"
      },
      "source": [
        "svm_scores = precision_recall_fscore_support(Test_Y_2, predictions_SVM, average='weighted')\n",
        "print(f'SVM Precision Score: {svm_scores[0]*100:.2f}%')\n",
        "print(f'SVM Recall Score: {svm_scores[1]*100:.2f}%')\n",
        "print(f'SVM F-Score Score: {svm_scores[2]*100:.2f}%')"
      ],
      "execution_count": 87,
      "outputs": [
        {
          "output_type": "stream",
          "text": [
            "SVM Precision Score: 71.74%\n",
            "SVM Recall Score: 75.37%\n",
            "SVM F-Score Score: 67.02%\n"
          ],
          "name": "stdout"
        }
      ]
    },
    {
      "cell_type": "markdown",
      "metadata": {
        "id": "FAJLD5i38ByW"
      },
      "source": [
        "**SVM Predictions - Confusion Matrix**"
      ]
    },
    {
      "cell_type": "code",
      "metadata": {
        "colab": {
          "base_uri": "https://localhost:8080/",
          "height": 516
        },
        "id": "SNfEVjKJxbRB",
        "outputId": "b93d4d93-8b8e-4737-d736-379b30101f15"
      },
      "source": [
        "# determine the prediction confusion matrix\n",
        "mat = confusion_matrix(Test_Y_2, predictions_SVM)\n",
        "\n",
        "# init the plot\n",
        "plt.figure(figsize=(8, 8))\n",
        "\n",
        "\n",
        "# plot confusion matrix heatmap\n",
        "sns.heatmap(mat.T, square=True, annot=True, fmt='d', cbar=False, cmap='BuGn_r')\n",
        "\n",
        "# add plot axis labels\n",
        "plt.xlabel('[true class label $y_{i}$]')\n",
        "plt.ylabel('[predicted class label $y_{i}\\'$]')\n",
        "plt.tick_params(axis='both', which='major', labelsize=8, labelbottom = False, bottom=False, top = False, left = False, labeltop=True)\n",
        "\n",
        "# add plot title\n",
        "plt.title('SVM Predictions - Confusion Matrix');"
      ],
      "execution_count": 88,
      "outputs": [
        {
          "output_type": "display_data",
          "data": {
            "image/png": "[encoded data removed]",
            "text/plain": [
              "<Figure size 576x576 with 1 Axes>"
            ]
          },
          "metadata": {
            "tags": [],
            "needs_background": "light"
          }
        }
      ]
    },
    {
      "cell_type": "markdown",
      "metadata": {
        "id": "DZFjA5GI2_M4"
      },
      "source": [
        "# C. Feature Extraction: CountVectorizer"
      ]
    },
    {
      "cell_type": "code",
      "metadata": {
        "id": "85WsGGmF2oiD"
      },
      "source": [
        "vectorizer = CountVectorizer(min_df = 0.05, stop_words='english', ngram_range = (1,1))\n",
        "X = vectorizer.fit_transform(Corpus)\n",
        "\n",
        "X = X.toarray()"
      ],
      "execution_count": 89,
      "outputs": []
    },
    {
      "cell_type": "markdown",
      "metadata": {
        "id": "aIT0mkbh8ByW"
      },
      "source": [
        "## C.1. Support Vector Machines Classifier (SVM)"
      ]
    },
    {
      "cell_type": "code",
      "metadata": {
        "colab": {
          "base_uri": "https://localhost:8080/"
        },
        "id": "BiZDyU0EByaf",
        "outputId": "a6ed0e03-00ca-4518-b04f-241dd4a87f4b"
      },
      "source": [
        "# Creating an obect containing parametrisation setup for SVM \n",
        "svm = SVC(kernel='poly', degree = 2, C=100, random_state=123)\n",
        "\n",
        "vectorizer.fit(Corpus)\n",
        "Train_X_count = vectorizer.transform(Train_X)\n",
        "Test_X_count = vectorizer.transform(Test_X)\n",
        "\n",
        "# Training an SVM model with parameters set in the previous  step\n",
        "svm.fit(Train_X_count, Train_Y_2)\n",
        "\n",
        "# Calculating model predictions on evaluation data\n",
        "y_pred = svm.predict(Test_X_count)\n",
        "\n",
        "# Accuracy on evaluation data\n",
        "eval_accuracy = metrics.accuracy_score(Test_Y_2, y_pred) * 100\n",
        "print(f'Model classification accuracy: {eval_accuracy:.2f}%')"
      ],
      "execution_count": 90,
      "outputs": [
        {
          "output_type": "stream",
          "text": [
            "Model classification accuracy: 70.05%\n"
          ],
          "name": "stdout"
        }
      ]
    },
    {
      "cell_type": "markdown",
      "metadata": {
        "id": "5lJ-e2qc8ByX"
      },
      "source": [
        "**Precision, Recall & F-score**"
      ]
    },
    {
      "cell_type": "code",
      "metadata": {
        "id": "Hm8ezRMU8ByY"
      },
      "source": [
        "# precision_recall_fscore_support(Test_Y_2, y_pred, average='weighted')"
      ],
      "execution_count": 91,
      "outputs": []
    },
    {
      "cell_type": "code",
      "metadata": {
        "colab": {
          "base_uri": "https://localhost:8080/"
        },
        "id": "VT3IhwVz8ByY",
        "outputId": "490d0c6f-2d1c-4ce1-fb48-caa78ba05dc6"
      },
      "source": [
        "svm_scores_2 = precision_recall_fscore_support(Test_Y_2, y_pred, average='weighted')\n",
        "print(f'SVM Precision Score: {svm_scores_2[0]*100:.2f}%')\n",
        "print(f'SVM Recall Score: {svm_scores_2[1]*100:.2f}%')\n",
        "print(f'SVM F-Score Score: {svm_scores_2[2]*100:.2f}%')"
      ],
      "execution_count": 92,
      "outputs": [
        {
          "output_type": "stream",
          "text": [
            "SVM Precision Score: 65.66%\n",
            "SVM Recall Score: 70.05%\n",
            "SVM F-Score Score: 67.25%\n"
          ],
          "name": "stdout"
        }
      ]
    },
    {
      "cell_type": "markdown",
      "metadata": {
        "id": "TE_IGbgc8ByY"
      },
      "source": [
        "**SVM Predictions - Confusion Matrix**"
      ]
    },
    {
      "cell_type": "code",
      "metadata": {
        "colab": {
          "base_uri": "https://localhost:8080/",
          "height": 516
        },
        "id": "ZqvUOAVyKjcU",
        "outputId": "ec206846-ad5a-44b6-8216-e57a0c7e5076"
      },
      "source": [
        "# determine the prediction confusion matrix\n",
        "mat = confusion_matrix(Test_Y_2, y_pred)\n",
        "\n",
        "# init the plot\n",
        "plt.figure(figsize=(8, 8))\n",
        "\n",
        "# plot confusion matrix heatmap\n",
        "sns.heatmap(mat.T, square=True, annot=True, fmt='d', cbar=False, cmap='BuGn_r')\n",
        "\n",
        "# add plot axis labels\n",
        "plt.xlabel('[true class label $y_{i}$]')\n",
        "plt.ylabel('[predicted class label $y_{i}\\'$]')\n",
        "plt.tick_params(axis='both', which='major', labelsize=8, labelbottom = False, bottom=False, top = False, left = False, labeltop=True)\n",
        "\n",
        "# add plot title\n",
        "plt.title('SVM Predictions - Confusion Matrix');"
      ],
      "execution_count": 93,
      "outputs": [
        {
          "output_type": "display_data",
          "data": {
            "image/png": "[encoded data removed]",
            "text/plain": [
              "<Figure size 576x576 with 1 Axes>"
            ]
          },
          "metadata": {
            "tags": [],
            "needs_background": "light"
          }
        }
      ]
    },
    {
      "cell_type": "markdown",
      "metadata": {
        "id": "wSpumbD86YTY"
      },
      "source": [
        "# D. Hierarchical Classification (1. Naive Bayes, 2. SVM)"
      ]
    },
    {
      "cell_type": "markdown",
      "metadata": {
        "id": "anTzH9IB8ByZ"
      },
      "source": [
        "## D.1. First-Classification in Neutral/Non-Neutral with Naive Bayes (MultinomialNB)"
      ]
    },
    {
      "cell_type": "code",
      "metadata": {
        "colab": {
          "base_uri": "https://localhost:8080/"
        },
        "id": "aPXuA3jQ72um",
        "outputId": "28422af5-4c9f-411f-9edd-8ccc740cbfe2"
      },
      "source": [
        "# fit the training dataset on the NB classifier\n",
        "Naive = naive_bayes.MultinomialNB()\n",
        "Naive.fit(Train_X_Tfidf,Train_Y_1)\n",
        "# predict the labels on validation dataset\n",
        "predictions_NB = Naive.predict(Test_X_Tfidf)\n",
        "# Use accuracy_score function to get the accuracy\n",
        "print(\"Naive Bayes Accuracy Score -> \",accuracy_score(predictions_NB, Test_Y_1)*100)"
      ],
      "execution_count": 94,
      "outputs": [
        {
          "output_type": "stream",
          "text": [
            "Naive Bayes Accuracy Score ->  74.20965058236273\n"
          ],
          "name": "stdout"
        }
      ]
    },
    {
      "cell_type": "markdown",
      "metadata": {
        "id": "h1cjcKpS72u0"
      },
      "source": [
        "**Precision, Recall & F-score**"
      ]
    },
    {
      "cell_type": "code",
      "metadata": {
        "id": "yF5w9kc68Bya"
      },
      "source": [
        "# precision_recall_fscore_support(predictions_NB, Test_Y_1, average='weighted')"
      ],
      "execution_count": 95,
      "outputs": []
    },
    {
      "cell_type": "code",
      "metadata": {
        "colab": {
          "base_uri": "https://localhost:8080/"
        },
        "id": "koKAo3FJ72u1",
        "outputId": "d22819d3-78f3-4286-a1e4-57a5a6735daa"
      },
      "source": [
        "mnb_scores_2 = precision_recall_fscore_support(Test_Y_1, predictions_NB, average='weighted')\n",
        "print(f'Naives Bayes Precision Score: {mnb_scores_2[0]*100:.2f}%')\n",
        "print(f'Naives Bayes Recall Score: {mnb_scores_2[1]*100:.2f}%')\n",
        "print(f'Naives Bayes F-Score Score: {mnb_scores_2[2]*100:.2f}%')"
      ],
      "execution_count": 96,
      "outputs": [
        {
          "output_type": "stream",
          "text": [
            "Naives Bayes Precision Score: 55.07%\n",
            "Naives Bayes Recall Score: 74.21%\n",
            "Naives Bayes F-Score Score: 63.22%\n"
          ],
          "name": "stdout"
        },
        {
          "output_type": "stream",
          "text": [
            "/usr/local/lib/python3.7/dist-packages/sklearn/metrics/_classification.py:1272: UndefinedMetricWarning: Precision and F-score are ill-defined and being set to 0.0 in labels with no predicted samples. Use `zero_division` parameter to control this behavior.\n",
            "  _warn_prf(average, modifier, msg_start, len(result))\n"
          ],
          "name": "stderr"
        }
      ]
    },
    {
      "cell_type": "markdown",
      "metadata": {
        "id": "h1rFLORy8Bya"
      },
      "source": [
        "**Naive Bayes Predictions - Confusion Matrix**"
      ]
    },
    {
      "cell_type": "code",
      "metadata": {
        "colab": {
          "base_uri": "https://localhost:8080/",
          "height": 516
        },
        "id": "GvCEsvQF72u1",
        "outputId": "fbe44bef-4493-4892-c22a-7a6c0bce4baf"
      },
      "source": [
        "# determine the prediction confusion matrix\n",
        "mat = confusion_matrix(Test_Y_1, predictions_NB)\n",
        "\n",
        "# init the plot\n",
        "plt.figure(figsize=(8, 8))\n",
        "\n",
        "# plot confusion matrix heatmap\n",
        "sns.heatmap(mat.T, square=True, annot=True, fmt='d', cbar=False, cmap='BuGn_r')\n",
        "\n",
        "# add plot axis labels\n",
        "plt.xlabel('[true class label $y_{i}$]')\n",
        "plt.ylabel('[predicted class label $y_{i}\\'$]')\n",
        "plt.tick_params(axis='both', which='major', labelsize=8, labelbottom = False, bottom=False, top = False, left = False, labeltop=True)\n",
        "\n",
        "# add plot title\n",
        "plt.title('Naive Bayes Predictions - Confusion Matrix');"
      ],
      "execution_count": 97,
      "outputs": [
        {
          "output_type": "display_data",
          "data": {
            "image/png": "[encoded data removed]",
            "text/plain": [
              "<Figure size 576x576 with 1 Axes>"
            ]
          },
          "metadata": {
            "tags": [],
            "needs_background": "light"
          }
        }
      ]
    },
    {
      "cell_type": "markdown",
      "metadata": {
        "id": "jQu1mvm88Byb"
      },
      "source": [
        "## D.2. Hierarchical Classification 1: Neutral/Non-Neutral with Support Vector Machines (SVM)"
      ]
    },
    {
      "cell_type": "code",
      "metadata": {
        "colab": {
          "base_uri": "https://localhost:8080/"
        },
        "id": "g-ABM6XR8LO8",
        "outputId": "d686a0b0-1e08-4757-bdc4-f587792fe1ab"
      },
      "source": [
        "# Classifier - Algorithm - SVM\n",
        "# fit the training dataset on the classifier\n",
        "SVM_hierarchical_1 = SVC(C=100, kernel='linear', degree=3, gamma='auto', random_state = 123)\n",
        "SVM_hierarchical_1.fit(Train_X_Tfidf,Train_Y_1)\n",
        "# predict the labels on validation dataset\n",
        "predictions_SVM = SVM_hierarchical_1.predict(Test_X_Tfidf)\n",
        "# Use accuracy_score function to get the accuracy\n",
        "print(\"SVM Accuracy Score -> \",accuracy_score(predictions_SVM, Test_Y_1)*100)"
      ],
      "execution_count": 98,
      "outputs": [
        {
          "output_type": "stream",
          "text": [
            "SVM Accuracy Score ->  69.21797004991681\n"
          ],
          "name": "stdout"
        }
      ]
    },
    {
      "cell_type": "markdown",
      "metadata": {
        "id": "b2LTDr9H8Byb"
      },
      "source": [
        "**Precision, Recall & F-score**"
      ]
    },
    {
      "cell_type": "code",
      "metadata": {
        "id": "EJ3bWRgT8Byb"
      },
      "source": [
        "# precision_recall_fscore_support(predictions_SVM, Test_Y_1, average='weighted')"
      ],
      "execution_count": 99,
      "outputs": []
    },
    {
      "cell_type": "code",
      "metadata": {
        "colab": {
          "base_uri": "https://localhost:8080/"
        },
        "id": "Qx-2JU438Byb",
        "outputId": "6c543d5b-7999-4e7b-dc20-76221809da43"
      },
      "source": [
        "svm_scores_3 = precision_recall_fscore_support(Test_Y_1, predictions_SVM, average='weighted')\n",
        "print(f'SVM Precision Score: {svm_scores_3[0]*100:.2f}%')\n",
        "print(f'SVM Recall Score: {svm_scores_3[1]*100:.2f}%')\n",
        "print(f'SVM F-Score Score: {svm_scores_3[2]*100:.2f}%')"
      ],
      "execution_count": 100,
      "outputs": [
        {
          "output_type": "stream",
          "text": [
            "SVM Precision Score: 66.91%\n",
            "SVM Recall Score: 69.22%\n",
            "SVM F-Score Score: 67.84%\n"
          ],
          "name": "stdout"
        }
      ]
    },
    {
      "cell_type": "markdown",
      "metadata": {
        "id": "d1smAb-N8Byc"
      },
      "source": [
        "**SVM Predictions - Confusion Matrix**"
      ]
    },
    {
      "cell_type": "code",
      "metadata": {
        "colab": {
          "base_uri": "https://localhost:8080/",
          "height": 516
        },
        "id": "VHn1GvJg8LPM",
        "outputId": "25cd78c5-cee4-47c8-e516-333b4822b5c0"
      },
      "source": [
        "# determine the prediction confusion matrix\n",
        "mat = confusion_matrix(Test_Y_1, predictions_SVM)\n",
        "\n",
        "# init the plot\n",
        "plt.figure(figsize=(8, 8))\n",
        "\n",
        "\n",
        "# plot confusion matrix heatmap\n",
        "sns.heatmap(mat.T, square=True, annot=True, fmt='d', cbar=False, cmap='BuGn_r')\n",
        "\n",
        "# add plot axis labels\n",
        "plt.xlabel('[true class label $y_{i}$]')\n",
        "plt.ylabel('[predicted class label $y_{i}\\'$]')\n",
        "plt.tick_params(axis='both', which='major', labelsize=8, labelbottom = False, bottom=False, top = False, left = False, labeltop=True)\n",
        "\n",
        "# add plot title\n",
        "plt.title('SVM Predictions - Confusion Matrix');"
      ],
      "execution_count": 101,
      "outputs": [
        {
          "output_type": "display_data",
          "data": {
            "image/png": "[encoded data removed]",
            "text/plain": [
              "<Figure size 576x576 with 1 Axes>"
            ]
          },
          "metadata": {
            "tags": [],
            "needs_background": "light"
          }
        }
      ]
    },
    {
      "cell_type": "markdown",
      "metadata": {
        "id": "WeT3zFwj8Byc"
      },
      "source": [
        "## D.3. Hierarchical Classification 2: Positive/Negative with Support Vector Machines (SVM)"
      ]
    },
    {
      "cell_type": "code",
      "metadata": {
        "id": "07zB5CVk-5to"
      },
      "source": [
        "indices_train = Train_Y_2 != 2\n",
        "indices_test = Test_Y_2 != 2"
      ],
      "execution_count": 102,
      "outputs": []
    },
    {
      "cell_type": "code",
      "metadata": {
        "id": "Z_RjfW1X_Ks7"
      },
      "source": [
        "Train_Y_2 = Train_Y_2[indices_train]\n",
        "Train_X = Train_X[indices_train]\n",
        "\n",
        "Test_Y_2 = Test_Y_2[indices_test]\n",
        "Test_X = Test_X[indices_test]"
      ],
      "execution_count": 103,
      "outputs": []
    },
    {
      "cell_type": "code",
      "metadata": {
        "colab": {
          "base_uri": "https://localhost:8080/"
        },
        "id": "jcKC0Sw1BfkQ",
        "outputId": "057c9e1a-0fcd-4fce-de77-bd160177a8a8"
      },
      "source": [
        "# Classifier - Algorithm - SVM\n",
        "# fit the training dataset on the classifier\n",
        "SVM_hierarchical_2 = SVC(C=1000, kernel='poly', degree=3, gamma='auto', random_state = 123)\n",
        "\n",
        "Train_X_count = vectorizer.transform(Train_X)\n",
        "Test_X_count = vectorizer.transform(Test_X)\n",
        "\n",
        "SVM_hierarchical_2.fit(Train_X_count,Train_Y_2)\n",
        "# predict the labels on validation dataset\n",
        "predictions_SVM = SVM_hierarchical_2.predict(Test_X_count)\n",
        "# Use accuracy_score function to get the accuracy\n",
        "print(\"SVM Accuracy Score -> \",accuracy_score(predictions_SVM, Test_Y_2)*100)"
      ],
      "execution_count": 104,
      "outputs": [
        {
          "output_type": "stream",
          "text": [
            "SVM Accuracy Score ->  55.483870967741936\n"
          ],
          "name": "stdout"
        }
      ]
    },
    {
      "cell_type": "markdown",
      "metadata": {
        "id": "AM_FGXod8Byd"
      },
      "source": [
        "**Precision, Recall & F-score**"
      ]
    },
    {
      "cell_type": "code",
      "metadata": {
        "id": "ccf8sAf78Byd"
      },
      "source": [
        "# precision_recall_fscore_support(predictions_SVM, Test_Y_2, average='weighted')"
      ],
      "execution_count": 105,
      "outputs": []
    },
    {
      "cell_type": "code",
      "metadata": {
        "colab": {
          "base_uri": "https://localhost:8080/"
        },
        "id": "8G3PMbxB8Byd",
        "outputId": "83f3172e-8933-4e1e-b001-9f851ff80e82"
      },
      "source": [
        "svm_scores_4 = precision_recall_fscore_support(Test_Y_2, predictions_SVM, average='weighted')\n",
        "print(f'SVM Precision Score: {svm_scores_4[0]*100:.2f}%')\n",
        "print(f'SVM Recall Score: {svm_scores_4[1]*100:.2f}%')\n",
        "print(f'SVM F-Score Score: {svm_scores_4[2]*100:.2f}%')"
      ],
      "execution_count": 106,
      "outputs": [
        {
          "output_type": "stream",
          "text": [
            "SVM Precision Score: 53.48%\n",
            "SVM Recall Score: 55.48%\n",
            "SVM F-Score Score: 51.50%\n"
          ],
          "name": "stdout"
        }
      ]
    },
    {
      "cell_type": "markdown",
      "metadata": {
        "id": "LSt9Jsyp8Bye"
      },
      "source": [
        "**SVM Predictions - Confusion Matrix**"
      ]
    },
    {
      "cell_type": "code",
      "metadata": {
        "colab": {
          "base_uri": "https://localhost:8080/",
          "height": 516
        },
        "id": "ggN8hQfOBfkR",
        "outputId": "762d7fa7-35f1-4d2b-9ab5-311e6c9175ce"
      },
      "source": [
        "# determine the prediction confusion matrix\n",
        "mat = confusion_matrix(Test_Y_2, predictions_SVM)\n",
        "\n",
        "# init the plot\n",
        "plt.figure(figsize=(8, 8))\n",
        "\n",
        "# plot confusion matrix heatmap\n",
        "sns.heatmap(mat.T, square=True, annot=True, fmt='d', cbar=False, cmap='BuGn_r')\n",
        "\n",
        "# add plot axis labels\n",
        "plt.xlabel('[true class label $y_{i}$]')\n",
        "plt.ylabel('[predicted class label $y_{i}\\'$]')\n",
        "plt.tick_params(axis='both', which='major', labelsize=8, labelbottom = False, bottom=False, top = False, left = False, labeltop=True)\n",
        "\n",
        "# add plot title\n",
        "plt.title('SVM Predictions - Confusion Matrix');"
      ],
      "execution_count": 107,
      "outputs": [
        {
          "output_type": "display_data",
          "data": {
            "image/png": "[encoded data removed]",
            "text/plain": [
              "<Figure size 576x576 with 1 Axes>"
            ]
          },
          "metadata": {
            "tags": [],
            "needs_background": "light"
          }
        }
      ]
    },
    {
      "cell_type": "code",
      "metadata": {
        "colab": {
          "base_uri": "https://localhost:8080/",
          "height": 407
        },
        "id": "xivjF58b9qcU",
        "outputId": "fe43ba6f-99e6-4f97-9794-6d3b62c9d971"
      },
      "source": [
        "dfBTC['log_return'] = np.log(dfBTC.Close) - np.log(dfBTC.Close.shift(1))\n",
        "dfBTC['log_return2'] = dfBTC.log_return ** 2\n",
        "\n",
        "plt.figure(figsize=(16, 5), dpi= 100 )\n",
        "plt.plot(dfBTC.index, dfBTC['log_return'], color='tab:blue')\n",
        "plt.gca().set(title=\"BTC daily logarithmic returns 2010-2021\", xlabel=\"Time\", ylabel=\"Daily log return\")\n",
        "plt.show()"
      ],
      "execution_count": 108,
      "outputs": [
        {
          "output_type": "display_data",
          "data": {
            "image/png": "[encoded data removed]",
            "text/plain": [
              "<Figure size 1600x500 with 1 Axes>"
            ]
          },
          "metadata": {
            "tags": [],
            "needs_background": "light"
          }
        }
      ]
    },
    {
      "cell_type": "code",
      "metadata": {
        "colab": {
          "base_uri": "https://localhost:8080/",
          "height": 431
        },
        "id": "K_KW9CPp-JoD",
        "outputId": "b1faf1e6-55df-4fd2-8434-bbe0d7414aa1"
      },
      "source": [
        "dfBTC"
      ],
      "execution_count": 109,
      "outputs": [
        {
          "output_type": "execute_result",
          "data": {
            "text/html": [
              "<div>\n",
              "<style scoped>\n",
              "    .dataframe tbody tr th:only-of-type {\n",
              "        vertical-align: middle;\n",
              "    }\n",
              "\n",
              "    .dataframe tbody tr th {\n",
              "        vertical-align: top;\n",
              "    }\n",
              "\n",
              "    .dataframe thead th {\n",
              "        text-align: right;\n",
              "    }\n",
              "</style>\n",
              "<table border=\"1\" class=\"dataframe\">\n",
              "  <thead>\n",
              "    <tr style=\"text-align: right;\">\n",
              "      <th></th>\n",
              "      <th>Open</th>\n",
              "      <th>High</th>\n",
              "      <th>Low</th>\n",
              "      <th>Close</th>\n",
              "      <th>Adj Close</th>\n",
              "      <th>Volume</th>\n",
              "      <th>log_return</th>\n",
              "      <th>log_return2</th>\n",
              "    </tr>\n",
              "    <tr>\n",
              "      <th>Date</th>\n",
              "      <th></th>\n",
              "      <th></th>\n",
              "      <th></th>\n",
              "      <th></th>\n",
              "      <th></th>\n",
              "      <th></th>\n",
              "      <th></th>\n",
              "      <th></th>\n",
              "    </tr>\n",
              "  </thead>\n",
              "  <tbody>\n",
              "    <tr>\n",
              "      <th>2014-09-17</th>\n",
              "      <td>465.864014</td>\n",
              "      <td>468.174011</td>\n",
              "      <td>452.421997</td>\n",
              "      <td>457.334015</td>\n",
              "      <td>457.334015</td>\n",
              "      <td>2.105680e+07</td>\n",
              "      <td>NaN</td>\n",
              "      <td>NaN</td>\n",
              "    </tr>\n",
              "    <tr>\n",
              "      <th>2014-09-18</th>\n",
              "      <td>456.859985</td>\n",
              "      <td>456.859985</td>\n",
              "      <td>413.104004</td>\n",
              "      <td>424.440002</td>\n",
              "      <td>424.440002</td>\n",
              "      <td>3.448320e+07</td>\n",
              "      <td>-0.074643</td>\n",
              "      <td>0.005572</td>\n",
              "    </tr>\n",
              "    <tr>\n",
              "      <th>2014-09-19</th>\n",
              "      <td>424.102997</td>\n",
              "      <td>427.834991</td>\n",
              "      <td>384.532013</td>\n",
              "      <td>394.795990</td>\n",
              "      <td>394.795990</td>\n",
              "      <td>3.791970e+07</td>\n",
              "      <td>-0.072402</td>\n",
              "      <td>0.005242</td>\n",
              "    </tr>\n",
              "    <tr>\n",
              "      <th>2014-09-20</th>\n",
              "      <td>394.673004</td>\n",
              "      <td>423.295990</td>\n",
              "      <td>389.882996</td>\n",
              "      <td>408.903992</td>\n",
              "      <td>408.903992</td>\n",
              "      <td>3.686360e+07</td>\n",
              "      <td>0.035111</td>\n",
              "      <td>0.001233</td>\n",
              "    </tr>\n",
              "    <tr>\n",
              "      <th>2014-09-21</th>\n",
              "      <td>408.084991</td>\n",
              "      <td>412.425995</td>\n",
              "      <td>393.181000</td>\n",
              "      <td>398.821014</td>\n",
              "      <td>398.821014</td>\n",
              "      <td>2.658010e+07</td>\n",
              "      <td>-0.024968</td>\n",
              "      <td>0.000623</td>\n",
              "    </tr>\n",
              "    <tr>\n",
              "      <th>...</th>\n",
              "      <td>...</td>\n",
              "      <td>...</td>\n",
              "      <td>...</td>\n",
              "      <td>...</td>\n",
              "      <td>...</td>\n",
              "      <td>...</td>\n",
              "      <td>...</td>\n",
              "      <td>...</td>\n",
              "    </tr>\n",
              "    <tr>\n",
              "      <th>2021-06-17</th>\n",
              "      <td>38341.421875</td>\n",
              "      <td>39513.671875</td>\n",
              "      <td>37439.675781</td>\n",
              "      <td>38053.503906</td>\n",
              "      <td>38053.503906</td>\n",
              "      <td>3.709667e+10</td>\n",
              "      <td>-0.007685</td>\n",
              "      <td>0.000059</td>\n",
              "    </tr>\n",
              "    <tr>\n",
              "      <th>2021-06-18</th>\n",
              "      <td>38099.476563</td>\n",
              "      <td>38187.261719</td>\n",
              "      <td>35255.855469</td>\n",
              "      <td>35787.246094</td>\n",
              "      <td>35787.246094</td>\n",
              "      <td>3.620089e+10</td>\n",
              "      <td>-0.061402</td>\n",
              "      <td>0.003770</td>\n",
              "    </tr>\n",
              "    <tr>\n",
              "      <th>2021-06-19</th>\n",
              "      <td>35854.527344</td>\n",
              "      <td>36457.796875</td>\n",
              "      <td>34933.062500</td>\n",
              "      <td>35615.871094</td>\n",
              "      <td>35615.871094</td>\n",
              "      <td>3.120728e+10</td>\n",
              "      <td>-0.004800</td>\n",
              "      <td>0.000023</td>\n",
              "    </tr>\n",
              "    <tr>\n",
              "      <th>2021-06-20</th>\n",
              "      <td>35563.140625</td>\n",
              "      <td>36059.484375</td>\n",
              "      <td>33432.074219</td>\n",
              "      <td>35698.296875</td>\n",
              "      <td>35698.296875</td>\n",
              "      <td>3.666403e+10</td>\n",
              "      <td>0.002312</td>\n",
              "      <td>0.000005</td>\n",
              "    </tr>\n",
              "    <tr>\n",
              "      <th>2021-06-21</th>\n",
              "      <td>35641.144531</td>\n",
              "      <td>35721.640625</td>\n",
              "      <td>31295.935547</td>\n",
              "      <td>31676.693359</td>\n",
              "      <td>31676.693359</td>\n",
              "      <td>5.280904e+10</td>\n",
              "      <td>-0.119522</td>\n",
              "      <td>0.014285</td>\n",
              "    </tr>\n",
              "  </tbody>\n",
              "</table>\n",
              "<p>2470 rows × 8 columns</p>\n",
              "</div>"
            ],
            "text/plain": [
              "                    Open          High  ...  log_return  log_return2\n",
              "Date                                    ...                         \n",
              "2014-09-17    465.864014    468.174011  ...         NaN          NaN\n",
              "2014-09-18    456.859985    456.859985  ...   -0.074643     0.005572\n",
              "2014-09-19    424.102997    427.834991  ...   -0.072402     0.005242\n",
              "2014-09-20    394.673004    423.295990  ...    0.035111     0.001233\n",
              "2014-09-21    408.084991    412.425995  ...   -0.024968     0.000623\n",
              "...                  ...           ...  ...         ...          ...\n",
              "2021-06-17  38341.421875  39513.671875  ...   -0.007685     0.000059\n",
              "2021-06-18  38099.476563  38187.261719  ...   -0.061402     0.003770\n",
              "2021-06-19  35854.527344  36457.796875  ...   -0.004800     0.000023\n",
              "2021-06-20  35563.140625  36059.484375  ...    0.002312     0.000005\n",
              "2021-06-21  35641.144531  35721.640625  ...   -0.119522     0.014285\n",
              "\n",
              "[2470 rows x 8 columns]"
            ]
          },
          "metadata": {
            "tags": []
          },
          "execution_count": 109
        }
      ]
    },
    {
      "cell_type": "code",
      "metadata": {
        "id": "bt-ZT9LtVC_B"
      },
      "source": [
        "dates = dfBTC.index.values\n",
        "dates = [datetime.datetime.date(datetime.datetime.utcfromtimestamp(date.tolist()/1e9)) for date in dates]\n",
        "\n",
        "subDates = submissionsDF.index.values\n",
        "subDates = [datetime.datetime.date(datetime.datetime.utcfromtimestamp(date.tolist()/1e9)) for date in subDates]\n",
        "\n",
        "submissionsDF.index = subDates"
      ],
      "execution_count": 110,
      "outputs": []
    },
    {
      "cell_type": "markdown",
      "metadata": {
        "id": "BucMUaebaPjI"
      },
      "source": [
        "# E Sentiment vs volatility comparison"
      ]
    },
    {
      "cell_type": "markdown",
      "metadata": {
        "id": "fNYIzEWqZwDr"
      },
      "source": [
        "**Calculating average sentiment for single days**"
      ]
    },
    {
      "cell_type": "code",
      "metadata": {
        "colab": {
          "base_uri": "https://localhost:8080/"
        },
        "id": "_0o9ihBfWyVg",
        "outputId": "85af47d7-0231-4633-b150-e03eaca129e2"
      },
      "source": [
        "j = 0\n",
        "for date in dates:\n",
        "  # EXtracting submissions for current date\n",
        "  currentDF = submissionsDF[submissionsDF.index == date]\n",
        "  currentDF = currentDF.reset_index(drop=True)\n",
        "\n",
        "  if len(currentDF) == 0:\n",
        "    dfBTC.loc[pd.to_datetime(date),\"Sentiment\"] = np.NaN\n",
        "    continue\n",
        "\n",
        "  #Preprocessing\n",
        "  currentDF[\"Submission\"] = currentDF[\"Submission\"].apply(lambda x: remove_punctuation(x))\n",
        "  currentDF[\"Submission\"] = currentDF[\"Submission\"].apply(lambda x: tokenize(x.lower()))\n",
        "  currentDF[\"Submission\"] = currentDF[\"Submission\"].apply(lambda x: remove_stopwords(x))\n",
        "  currentDF[\"Submission\"] = currentDF[\"Submission\"].apply(lambda x: stemming(x))\n",
        "\n",
        "  for i in range(0, len(currentDF)):\n",
        "    currentDF.loc[i,\"Submission\"] = \" \".join(currentDF.loc[i,\"Submission\"])\n",
        "\n",
        "  vect = Tfidf_vect.transform(currentDF.loc[:,\"Submission\"].values)\n",
        "  pred1 = SVM_hierarchical_1.predict(vect)\n",
        "\n",
        "  vect = vectorizer.transform(currentDF.loc[:,\"Submission\"].values)\n",
        "  pred2 = SVM_hierarchical_2.predict(vect)\n",
        "\n",
        "  for i in range(0, len(currentDF)):\n",
        "    if pred1[i] == 1:\n",
        "      currentDF.loc[i,\"Sentiment\"] = 0\n",
        "    else:\n",
        "      currentDF.loc[i,\"Sentiment\"] = pred2[i] - 2\n",
        "\n",
        "  dfBTC.loc[pd.to_datetime(date),\"Sentiment\"] = currentDF.loc[:,\"Sentiment\"].values.mean()\n",
        "\n",
        "  j = j + 1\n",
        "print(dfBTC) \n",
        "\n",
        "dfBTC = dfBTC.dropna()"
      ],
      "execution_count": 111,
      "outputs": [
        {
          "output_type": "stream",
          "text": [
            "                    Open          High  ...  log_return2  Sentiment\n",
            "Date                                    ...                        \n",
            "2014-09-17    465.864014    468.174011  ...          NaN   0.100000\n",
            "2014-09-18    456.859985    456.859985  ...     0.005572   0.114583\n",
            "2014-09-19    424.102997    427.834991  ...     0.005242   0.210084\n",
            "2014-09-20    394.673004    423.295990  ...     0.001233   0.151899\n",
            "2014-09-21    408.084991    412.425995  ...     0.000623   0.208955\n",
            "...                  ...           ...  ...          ...        ...\n",
            "2021-06-17  38341.421875  39513.671875  ...     0.000059   0.049020\n",
            "2021-06-18  38099.476563  38187.261719  ...     0.003770   0.079545\n",
            "2021-06-19  35854.527344  36457.796875  ...     0.000023   0.156627\n",
            "2021-06-20  35563.140625  36059.484375  ...     0.000005   0.159574\n",
            "2021-06-21  35641.144531  35721.640625  ...     0.014285   0.267045\n",
            "\n",
            "[2470 rows x 9 columns]\n"
          ],
          "name": "stdout"
        }
      ]
    },
    {
      "cell_type": "markdown",
      "metadata": {
        "id": "hSB8uuMuZ7-n"
      },
      "source": [
        "**Correlation between squared daily returns and sentiment**"
      ]
    },
    {
      "cell_type": "code",
      "metadata": {
        "colab": {
          "base_uri": "https://localhost:8080/"
        },
        "id": "kvhweIHQeQtv",
        "outputId": "e8d0dc7b-a413-46ce-9804-e7c48a62a076"
      },
      "source": [
        "scipy.stats.pearsonr(dfBTC.log_return2.values, dfBTC.Sentiment.values)"
      ],
      "execution_count": 112,
      "outputs": [
        {
          "output_type": "execute_result",
          "data": {
            "text/plain": [
              "(0.13650344667868874, 1.3034482696153139e-11)"
            ]
          },
          "metadata": {
            "tags": []
          },
          "execution_count": 112
        }
      ]
    }
  ]
}