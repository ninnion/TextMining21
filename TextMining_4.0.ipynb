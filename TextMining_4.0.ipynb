{
 "cells": [
  {
   "cell_type": "code",
   "execution_count": 1,
   "metadata": {
    "colab": {
     "base_uri": "https://localhost:8080/"
    },
    "executionInfo": {
     "elapsed": 830,
     "status": "ok",
     "timestamp": 1624299345265,
     "user": {
      "displayName": "Aa Bb",
      "photoUrl": "https://lh3.googleusercontent.com/a-/AOh14GgxTwlWxf1ISkjEb1iiMdFk7b1T9SqsvitEu42Q=s64",
      "userId": "00247581621828842951"
     },
     "user_tz": -120
    },
    "id": "hcPaaWwoxbQv",
    "outputId": "fe5f3665-359a-4f35-97f2-68a51c328740"
   },
   "outputs": [
    {
     "name": "stderr",
     "output_type": "stream",
     "text": [
      "[nltk_data] Downloading package stopwords to\n",
      "[nltk_data]     /Users/julianalexander/nltk_data...\n",
      "[nltk_data]   Package stopwords is already up-to-date!\n",
      "[nltk_data] Downloading package wordnet to\n",
      "[nltk_data]     /Users/julianalexander/nltk_data...\n",
      "[nltk_data]   Package wordnet is already up-to-date!\n"
     ]
    },
    {
     "data": {
      "text/plain": [
       "True"
      ]
     },
     "execution_count": 1,
     "metadata": {},
     "output_type": "execute_result"
    }
   ],
   "source": [
    "from tqdm.auto import tqdm\n",
    "import nltk\n",
    "from nltk.stem import PorterStemmer\n",
    "from nltk.tokenize import word_tokenize\n",
    "import pandas as pd\n",
    "import string\n",
    "import re\n",
    "from sklearn.model_selection import train_test_split\n",
    "from sklearn import model_selection, naive_bayes, svm\n",
    "from sklearn.feature_extraction.text import TfidfVectorizer\n",
    "import numpy as np\n",
    "from nltk import pos_tag\n",
    "from nltk.corpus import stopwords\n",
    "from nltk.stem import WordNetLemmatizer\n",
    "from sklearn.preprocessing import LabelEncoder\n",
    "from collections import defaultdict\n",
    "from nltk.corpus import wordnet as wn\n",
    "from sklearn.metrics import accuracy_score, precision_recall_fscore_support, classification_report\n",
    "from sklearn.svm import SVC\n",
    "from sklearn import metrics\n",
    "\n",
    "nltk.download('stopwords')\n",
    "nltk.download('wordnet')"
   ]
  },
  {
   "cell_type": "code",
   "execution_count": 2,
   "metadata": {
    "colab": {
     "base_uri": "https://localhost:8080/"
    },
    "executionInfo": {
     "elapsed": 21987,
     "status": "ok",
     "timestamp": 1624299186388,
     "user": {
      "displayName": "Aa Bb",
      "photoUrl": "https://lh3.googleusercontent.com/a-/AOh14GgxTwlWxf1ISkjEb1iiMdFk7b1T9SqsvitEu42Q=s64",
      "userId": "00247581621828842951"
     },
     "user_tz": -120
    },
    "id": "zhUWPArTxkda",
    "outputId": "032bfcd9-64d4-4aae-fc56-7696b09ffc95"
   },
   "outputs": [],
   "source": [
    "#from google.colab import drive\n",
    "\n",
    "# Mounting Drive inside the Colab notebook\n",
    "#drive.mount('/content/drive')"
   ]
  },
  {
   "cell_type": "code",
   "execution_count": 3,
   "metadata": {
    "executionInfo": {
     "elapsed": 900,
     "status": "ok",
     "timestamp": 1624299830006,
     "user": {
      "displayName": "Aa Bb",
      "photoUrl": "https://lh3.googleusercontent.com/a-/AOh14GgxTwlWxf1ISkjEb1iiMdFk7b1T9SqsvitEu42Q=s64",
      "userId": "00247581621828842951"
     },
     "user_tz": -120
    },
    "id": "sZgr_26KxbQw"
   },
   "outputs": [],
   "source": [
    "df1 = pd.read_csv(\"/Users/julianalexander/Library/Mobile Documents/com~apple~CloudDocs/HSG/1. Semester MBI FS2021/8,049,1.00 Text Mining mit Python/TextMining21/Reddit_Julian_TOTAL-klassifiziert.csv\")\n",
    "df2 = pd.read_csv(\"/Users/julianalexander/Library/Mobile Documents/com~apple~CloudDocs/HSG/1. Semester MBI FS2021/8,049,1.00 Text Mining mit Python/TextMining21/Reddit_Marek_klassifiziert.csv\")\n",
    "df3 = pd.read_csv(\"/Users/julianalexander/Library/Mobile Documents/com~apple~CloudDocs/HSG/1. Semester MBI FS2021/8,049,1.00 Text Mining mit Python/TextMining21/Reddit_Yonas_Total_Klassifiziert.csv\")"
   ]
  },
  {
   "cell_type": "code",
   "execution_count": 4,
   "metadata": {},
   "outputs": [],
   "source": [
    "#df1 = pd.read_csv(\"/Users/yonas/Desktop/GitHub/Text-Mining/TextMining21/Reddit_Julian_TOTAL-klassifiziert.csv\")\n",
    "#df2 = pd.read_csv(\"/Users/yonas/Desktop/GitHub/Text-Mining/TextMining21/Reddit_Marek_klassifiziert.csv\")\n",
    "#df3 = pd.read_csv(\"/Users/yonas/Desktop/GitHub/Text-Mining/TextMining21/Reddit_Yonas_Total_Klassifiziert.csv\")"
   ]
  },
  {
   "cell_type": "code",
   "execution_count": 5,
   "metadata": {
    "executionInfo": {
     "elapsed": 8,
     "status": "ok",
     "timestamp": 1624299831720,
     "user": {
      "displayName": "Aa Bb",
      "photoUrl": "https://lh3.googleusercontent.com/a-/AOh14GgxTwlWxf1ISkjEb1iiMdFk7b1T9SqsvitEu42Q=s64",
      "userId": "00247581621828842951"
     },
     "user_tz": -120
    },
    "id": "SyjYJzi1xbQy"
   },
   "outputs": [],
   "source": [
    "Atweets = pd.concat([df1, df2, df3], axis=0, join='inner')\n",
    "Atweets = Atweets.sort_values(by='index')\n",
    "Atweets = Atweets.reset_index(drop=True)"
   ]
  },
  {
   "cell_type": "markdown",
   "metadata": {},
   "source": [
    "# **Preprocessing**"
   ]
  },
  {
   "cell_type": "markdown",
   "metadata": {
    "id": "S5UNhnkLxbQz"
   },
   "source": [
    "Punktuierung"
   ]
  },
  {
   "cell_type": "code",
   "execution_count": 6,
   "metadata": {
    "executionInfo": {
     "elapsed": 5,
     "status": "ok",
     "timestamp": 1624299832718,
     "user": {
      "displayName": "Aa Bb",
      "photoUrl": "https://lh3.googleusercontent.com/a-/AOh14GgxTwlWxf1ISkjEb1iiMdFk7b1T9SqsvitEu42Q=s64",
      "userId": "00247581621828842951"
     },
     "user_tz": -120
    },
    "id": "ccz_YSWbxbQz"
   },
   "outputs": [],
   "source": [
    "def remove_punctuation(txt):\n",
    "    txt_nopunt = \"\".join([c for c in txt if c not in string.punctuation])\n",
    "    return txt_nopunt"
   ]
  },
  {
   "cell_type": "code",
   "execution_count": 7,
   "metadata": {
    "executionInfo": {
     "elapsed": 314,
     "status": "ok",
     "timestamp": 1624299833723,
     "user": {
      "displayName": "Aa Bb",
      "photoUrl": "https://lh3.googleusercontent.com/a-/AOh14GgxTwlWxf1ISkjEb1iiMdFk7b1T9SqsvitEu42Q=s64",
      "userId": "00247581621828842951"
     },
     "user_tz": -120
    },
    "id": "4VKJbe9ExbQ0"
   },
   "outputs": [],
   "source": [
    "Atweets[\"submission\"] = Atweets[\"submission\"].apply(lambda x: remove_punctuation(x))"
   ]
  },
  {
   "cell_type": "markdown",
   "metadata": {
    "id": "tvzH3h18xbQ0"
   },
   "source": [
    "Tokenisierung"
   ]
  },
  {
   "cell_type": "code",
   "execution_count": 8,
   "metadata": {
    "executionInfo": {
     "elapsed": 10,
     "status": "ok",
     "timestamp": 1624299834889,
     "user": {
      "displayName": "Aa Bb",
      "photoUrl": "https://lh3.googleusercontent.com/a-/AOh14GgxTwlWxf1ISkjEb1iiMdFk7b1T9SqsvitEu42Q=s64",
      "userId": "00247581621828842951"
     },
     "user_tz": -120
    },
    "id": "x3uLIYehxbQ1"
   },
   "outputs": [],
   "source": [
    "def tokenize(txt):\n",
    "    tokens = re.split(\"\\W+\", txt)\n",
    "    return tokens"
   ]
  },
  {
   "cell_type": "code",
   "execution_count": 9,
   "metadata": {
    "executionInfo": {
     "elapsed": 6,
     "status": "ok",
     "timestamp": 1624299835451,
     "user": {
      "displayName": "Aa Bb",
      "photoUrl": "https://lh3.googleusercontent.com/a-/AOh14GgxTwlWxf1ISkjEb1iiMdFk7b1T9SqsvitEu42Q=s64",
      "userId": "00247581621828842951"
     },
     "user_tz": -120
    },
    "id": "OaSiGvjrxbQ1"
   },
   "outputs": [],
   "source": [
    "Atweets[\"submissions_tokenized\"] = Atweets[\"submission\"].apply(lambda x: tokenize(x.lower()))"
   ]
  },
  {
   "cell_type": "markdown",
   "metadata": {
    "id": "xfpv9cOwxbQ1"
   },
   "source": [
    "Stopwörter"
   ]
  },
  {
   "cell_type": "code",
   "execution_count": 10,
   "metadata": {
    "executionInfo": {
     "elapsed": 515,
     "status": "ok",
     "timestamp": 1624299836400,
     "user": {
      "displayName": "Aa Bb",
      "photoUrl": "https://lh3.googleusercontent.com/a-/AOh14GgxTwlWxf1ISkjEb1iiMdFk7b1T9SqsvitEu42Q=s64",
      "userId": "00247581621828842951"
     },
     "user_tz": -120
    },
    "id": "z1OdZPvmxbQ3"
   },
   "outputs": [],
   "source": [
    "stopwords = nltk.corpus.stopwords.words(\"english\")"
   ]
  },
  {
   "cell_type": "code",
   "execution_count": 11,
   "metadata": {
    "executionInfo": {
     "elapsed": 368,
     "status": "ok",
     "timestamp": 1624299836756,
     "user": {
      "displayName": "Aa Bb",
      "photoUrl": "https://lh3.googleusercontent.com/a-/AOh14GgxTwlWxf1ISkjEb1iiMdFk7b1T9SqsvitEu42Q=s64",
      "userId": "00247581621828842951"
     },
     "user_tz": -120
    },
    "id": "0CE53d7AxbQ5"
   },
   "outputs": [],
   "source": [
    "stopwords.append(\"ll\")\n",
    "stopwords.append(\"im\")\n",
    "stopwords.append(\"youre\")\n",
    "stopwords.append(\"youve\")\n",
    "stopwords.append(\"youll\")\n",
    "stopwords.append(\"youd\")\n",
    "stopwords.append(\"shes\")\n",
    "stopwords.append(\"its\")\n",
    "stopwords.append(\"thatll\")\n",
    "stopwords.append(\"dont\")\n",
    "stopwords.append(\"shouldve\")\n",
    "stopwords.append(\"arent\")\n",
    "stopwords.append(\"couldnt\")\n",
    "stopwords.append(\"didnt\")\n",
    "stopwords.append(\"doesnt\")\n",
    "stopwords.append(\"hadnt\")\n",
    "stopwords.append(\"havent\")\n",
    "stopwords.append(\"isnt\")\n",
    "stopwords.append(\"mightnt\")\n",
    "stopwords.append(\"neednt\")\n",
    "stopwords.append(\"shant\")\n",
    "stopwords.append(\"shouldnt\")\n",
    "stopwords.append(\"wasnt\")\n",
    "stopwords.append(\"werent\")\n",
    "stopwords.append(\"wont\")\n",
    "stopwords.append(\"wouldnt\")"
   ]
  },
  {
   "cell_type": "code",
   "execution_count": 12,
   "metadata": {
    "executionInfo": {
     "elapsed": 4,
     "status": "ok",
     "timestamp": 1624299838938,
     "user": {
      "displayName": "Aa Bb",
      "photoUrl": "https://lh3.googleusercontent.com/a-/AOh14GgxTwlWxf1ISkjEb1iiMdFk7b1T9SqsvitEu42Q=s64",
      "userId": "00247581621828842951"
     },
     "user_tz": -120
    },
    "id": "Bd7A75wCxbQ6"
   },
   "outputs": [],
   "source": [
    "def remove_stopwords(txt_tokenized):\n",
    "    txt_clean = [word for word in txt_tokenized if word not in stopwords]\n",
    "    return txt_clean"
   ]
  },
  {
   "cell_type": "code",
   "execution_count": 13,
   "metadata": {
    "executionInfo": {
     "elapsed": 833,
     "status": "ok",
     "timestamp": 1624299840131,
     "user": {
      "displayName": "Aa Bb",
      "photoUrl": "https://lh3.googleusercontent.com/a-/AOh14GgxTwlWxf1ISkjEb1iiMdFk7b1T9SqsvitEu42Q=s64",
      "userId": "00247581621828842951"
     },
     "user_tz": -120
    },
    "id": "y4N-fYXcxbQ7"
   },
   "outputs": [],
   "source": [
    "Atweets[\"submission_no_stopwords\"] = Atweets[\"submissions_tokenized\"].apply(lambda x: remove_stopwords(x))"
   ]
  },
  {
   "cell_type": "markdown",
   "metadata": {
    "id": "6OAJ6lpPxbQ7"
   },
   "source": [
    "Stemming"
   ]
  },
  {
   "cell_type": "code",
   "execution_count": 14,
   "metadata": {
    "executionInfo": {
     "elapsed": 30,
     "status": "ok",
     "timestamp": 1624299840131,
     "user": {
      "displayName": "Aa Bb",
      "photoUrl": "https://lh3.googleusercontent.com/a-/AOh14GgxTwlWxf1ISkjEb1iiMdFk7b1T9SqsvitEu42Q=s64",
      "userId": "00247581621828842951"
     },
     "user_tz": -120
    },
    "id": "B8Gp8pyoxbQ8"
   },
   "outputs": [],
   "source": [
    "ps = PorterStemmer()"
   ]
  },
  {
   "cell_type": "code",
   "execution_count": 15,
   "metadata": {
    "executionInfo": {
     "elapsed": 11,
     "status": "ok",
     "timestamp": 1624299840431,
     "user": {
      "displayName": "Aa Bb",
      "photoUrl": "https://lh3.googleusercontent.com/a-/AOh14GgxTwlWxf1ISkjEb1iiMdFk7b1T9SqsvitEu42Q=s64",
      "userId": "00247581621828842951"
     },
     "user_tz": -120
    },
    "id": "V-Ascxc8xbQ8"
   },
   "outputs": [],
   "source": [
    "def stemming(tokenized_text):\n",
    "    text = [ps.stem(word) for word in tokenized_text]\n",
    "    return text"
   ]
  },
  {
   "cell_type": "code",
   "execution_count": 16,
   "metadata": {
    "executionInfo": {
     "elapsed": 3936,
     "status": "ok",
     "timestamp": 1624299845015,
     "user": {
      "displayName": "Aa Bb",
      "photoUrl": "https://lh3.googleusercontent.com/a-/AOh14GgxTwlWxf1ISkjEb1iiMdFk7b1T9SqsvitEu42Q=s64",
      "userId": "00247581621828842951"
     },
     "user_tz": -120
    },
    "id": "TEaezJeIxbQ8"
   },
   "outputs": [],
   "source": [
    "Atweets[\"submission_stemmed\"] = Atweets[\"submission_no_stopwords\"].apply(lambda x: stemming(x))"
   ]
  },
  {
   "cell_type": "markdown",
   "metadata": {
    "id": "Gp4OG0rQxbQ8"
   },
   "source": [
    "Lemmatisierung"
   ]
  },
  {
   "cell_type": "code",
   "execution_count": 17,
   "metadata": {
    "executionInfo": {
     "elapsed": 13,
     "status": "ok",
     "timestamp": 1624299845016,
     "user": {
      "displayName": "Aa Bb",
      "photoUrl": "https://lh3.googleusercontent.com/a-/AOh14GgxTwlWxf1ISkjEb1iiMdFk7b1T9SqsvitEu42Q=s64",
      "userId": "00247581621828842951"
     },
     "user_tz": -120
    },
    "id": "WhnmEOx9xbQ8"
   },
   "outputs": [],
   "source": [
    "wn = nltk.WordNetLemmatizer()"
   ]
  },
  {
   "cell_type": "code",
   "execution_count": 18,
   "metadata": {
    "executionInfo": {
     "elapsed": 12,
     "status": "ok",
     "timestamp": 1624299845016,
     "user": {
      "displayName": "Aa Bb",
      "photoUrl": "https://lh3.googleusercontent.com/a-/AOh14GgxTwlWxf1ISkjEb1iiMdFk7b1T9SqsvitEu42Q=s64",
      "userId": "00247581621828842951"
     },
     "user_tz": -120
    },
    "id": "4gLtR6WNxbQ9"
   },
   "outputs": [],
   "source": [
    "def lemmatization(token_txt):\n",
    "    text = [wn.lemmatize(word) for word in token_txt]\n",
    "    return text"
   ]
  },
  {
   "cell_type": "code",
   "execution_count": 19,
   "metadata": {
    "executionInfo": {
     "elapsed": 486,
     "status": "ok",
     "timestamp": 1624299845862,
     "user": {
      "displayName": "Aa Bb",
      "photoUrl": "https://lh3.googleusercontent.com/a-/AOh14GgxTwlWxf1ISkjEb1iiMdFk7b1T9SqsvitEu42Q=s64",
      "userId": "00247581621828842951"
     },
     "user_tz": -120
    },
    "id": "CPBbTpwbxbQ9"
   },
   "outputs": [],
   "source": [
    "Atweets[\"submission_lemmatized\"] = Atweets[\"submission_no_stopwords\"].apply(lambda x: lemmatization(x))"
   ]
  },
  {
   "cell_type": "markdown",
   "metadata": {},
   "source": [
    "# Classifier & Feature Extraction"
   ]
  },
  {
   "cell_type": "markdown",
   "metadata": {},
   "source": [
    "## A. Train & Test-Set"
   ]
  },
  {
   "cell_type": "code",
   "execution_count": 20,
   "metadata": {
    "executionInfo": {
     "elapsed": 1879,
     "status": "ok",
     "timestamp": 1624301311219,
     "user": {
      "displayName": "Aa Bb",
      "photoUrl": "https://lh3.googleusercontent.com/a-/AOh14GgxTwlWxf1ISkjEb1iiMdFk7b1T9SqsvitEu42Q=s64",
      "userId": "00247581621828842951"
     },
     "user_tz": -120
    },
    "id": "p4EtSJCA4djZ"
   },
   "outputs": [],
   "source": [
    "Atweets[\"submission_cleaned\"] = \" \"\n",
    "\n",
    "for i in range(0, len(Atweets) - 1):\n",
    "  Atweets.loc[i,\"submission_cleaned\"] = \" \".join(Atweets.loc[i,\"submission_stemmed\"])"
   ]
  },
  {
   "cell_type": "code",
   "execution_count": 21,
   "metadata": {
    "executionInfo": {
     "elapsed": 251,
     "status": "ok",
     "timestamp": 1624301338199,
     "user": {
      "displayName": "Aa Bb",
      "photoUrl": "https://lh3.googleusercontent.com/a-/AOh14GgxTwlWxf1ISkjEb1iiMdFk7b1T9SqsvitEu42Q=s64",
      "userId": "00247581621828842951"
     },
     "user_tz": -120
    },
    "id": "exxDjF0uxbQ-"
   },
   "outputs": [],
   "source": [
    "Corpus = Atweets.loc[:, \"submission_cleaned\"].values"
   ]
  },
  {
   "cell_type": "code",
   "execution_count": 22,
   "metadata": {
    "executionInfo": {
     "elapsed": 3,
     "status": "ok",
     "timestamp": 1624301339715,
     "user": {
      "displayName": "Aa Bb",
      "photoUrl": "https://lh3.googleusercontent.com/a-/AOh14GgxTwlWxf1ISkjEb1iiMdFk7b1T9SqsvitEu42Q=s64",
      "userId": "00247581621828842951"
     },
     "user_tz": -120
    },
    "id": "B2KPJAfixbQ-"
   },
   "outputs": [],
   "source": [
    "Train_X, Test_X, Train_Y, Test_Y = model_selection.train_test_split(Corpus,Atweets['sentiment'],test_size=0.2)"
   ]
  },
  {
   "cell_type": "code",
   "execution_count": 23,
   "metadata": {
    "executionInfo": {
     "elapsed": 292,
     "status": "ok",
     "timestamp": 1624301342508,
     "user": {
      "displayName": "Aa Bb",
      "photoUrl": "https://lh3.googleusercontent.com/a-/AOh14GgxTwlWxf1ISkjEb1iiMdFk7b1T9SqsvitEu42Q=s64",
      "userId": "00247581621828842951"
     },
     "user_tz": -120
    },
    "id": "VCTTeDm-0na8"
   },
   "outputs": [],
   "source": [
    "Train_Y_1 = Train_Y\n",
    "Test_Y_1 = Test_Y\n",
    "\n",
    "Train_Y_2 = Train_Y\n",
    "Test_Y_2 = Test_Y\n",
    "\n",
    "Train_Y_1 = np.where(Train_Y_1 == 1.0, 0, Train_Y_1)\n",
    "Train_Y_1 = np.where(Train_Y_1 == 2.0, 0, Train_Y_1)\n",
    "Train_Y_1 = np.where(Train_Y_1 == 3.0, 1, Train_Y_1)\n",
    "Train_Y_1 = np.where(Train_Y_1 == 4.0, 0, Train_Y_1)\n",
    "Train_Y_1 = np.where(Train_Y_1 == 5.0, 0, Train_Y_1)\n",
    "\n",
    "Train_Y_2 = np.where(Train_Y_2 == 1.0, 1, Train_Y_2)\n",
    "Train_Y_2 = np.where(Train_Y_2 == 2.0, 1, Train_Y_2)\n",
    "Train_Y_2 = np.where(Train_Y_2 == 3.0, 2, Train_Y_2)\n",
    "Train_Y_2 = np.where(Train_Y_2 == 4.0, 3, Train_Y_2)\n",
    "Train_Y_2 = np.where(Train_Y_2 == 5.0, 3, Train_Y_2)\n",
    "\n",
    "\n",
    "Test_Y_1 = np.where(Test_Y_1 == 1.0, 0, Test_Y_1)\n",
    "Test_Y_1 = np.where(Test_Y_1 == 2.0, 0, Test_Y_1)\n",
    "Test_Y_1 = np.where(Test_Y_1 == 3.0, 1, Test_Y_1)\n",
    "Test_Y_1 = np.where(Test_Y_1 == 4.0, 0, Test_Y_1)\n",
    "Test_Y_1 = np.where(Test_Y_1 == 5.0, 0, Test_Y_1)\n",
    "\n",
    "Test_Y_2 = np.where(Test_Y_2 == 1.0, 1, Test_Y_2)\n",
    "Test_Y_2 = np.where(Test_Y_2 == 2.0, 1, Test_Y_2)\n",
    "Test_Y_2 = np.where(Test_Y_2 == 3.0, 2, Test_Y_2)\n",
    "Test_Y_2 = np.where(Test_Y_2 == 4.0, 3, Test_Y_2)\n",
    "Test_Y_2 = np.where(Test_Y_2 == 5.0, 3, Test_Y_2)"
   ]
  },
  {
   "cell_type": "markdown",
   "metadata": {},
   "source": [
    "## B. Feature Extraction: TF-IDF-Vectorizer"
   ]
  },
  {
   "cell_type": "code",
   "execution_count": 24,
   "metadata": {
    "executionInfo": {
     "elapsed": 589,
     "status": "ok",
     "timestamp": 1624301345433,
     "user": {
      "displayName": "Aa Bb",
      "photoUrl": "https://lh3.googleusercontent.com/a-/AOh14GgxTwlWxf1ISkjEb1iiMdFk7b1T9SqsvitEu42Q=s64",
      "userId": "00247581621828842951"
     },
     "user_tz": -120
    },
    "id": "--IOQjAhxbQ-"
   },
   "outputs": [],
   "source": [
    "Tfidf_vect = TfidfVectorizer(max_features=12842)\n",
    "Tfidf_vect.fit(Corpus)\n",
    "Train_X_Tfidf = Tfidf_vect.transform(Train_X)\n",
    "Test_X_Tfidf = Tfidf_vect.transform(Test_X)"
   ]
  },
  {
   "cell_type": "markdown",
   "metadata": {},
   "source": [
    "## B.1. Naive Bayes Classifier (MultinomialNB)"
   ]
  },
  {
   "cell_type": "code",
   "execution_count": 25,
   "metadata": {
    "colab": {
     "base_uri": "https://localhost:8080/"
    },
    "executionInfo": {
     "elapsed": 236,
     "status": "ok",
     "timestamp": 1624301348340,
     "user": {
      "displayName": "Aa Bb",
      "photoUrl": "https://lh3.googleusercontent.com/a-/AOh14GgxTwlWxf1ISkjEb1iiMdFk7b1T9SqsvitEu42Q=s64",
      "userId": "00247581621828842951"
     },
     "user_tz": -120
    },
    "id": "_atgmL1XxbQ_",
    "outputId": "bb702df7-46ab-4c09-b56e-c443bf1c8359"
   },
   "outputs": [
    {
     "name": "stdout",
     "output_type": "stream",
     "text": [
      "Naive Bayes Accuracy Score ->  76.37271214642263\n"
     ]
    }
   ],
   "source": [
    "# fit the training dataset on the NB classifier\n",
    "Naive = naive_bayes.MultinomialNB()\n",
    "Naive.fit(Train_X_Tfidf,Train_Y_2)\n",
    "# predict the labels on validation dataset\n",
    "predictions_NB = Naive.predict(Test_X_Tfidf)\n",
    "# Use accuracy_score function to get the accuracy\n",
    "print(\"Naive Bayes Accuracy Score -> \",accuracy_score(predictions_NB, Test_Y_2)*100)"
   ]
  },
  {
   "cell_type": "markdown",
   "metadata": {
    "id": "ORKdkHBTxbQ_"
   },
   "source": [
    "**Precision, Recall & F-score**"
   ]
  },
  {
   "cell_type": "code",
   "execution_count": 26,
   "metadata": {
    "colab": {
     "base_uri": "https://localhost:8080/"
    },
    "executionInfo": {
     "elapsed": 235,
     "status": "ok",
     "timestamp": 1624301350542,
     "user": {
      "displayName": "Aa Bb",
      "photoUrl": "https://lh3.googleusercontent.com/a-/AOh14GgxTwlWxf1ISkjEb1iiMdFk7b1T9SqsvitEu42Q=s64",
      "userId": "00247581621828842951"
     },
     "user_tz": -120
    },
    "id": "F9EMfI5hxbQ_",
    "outputId": "23d9c77b-83b7-47eb-919d-b37df3237900"
   },
   "outputs": [],
   "source": [
    "# precision_recall_fscore_support(predictions_NB, Test_Y_2, average='weighted')"
   ]
  },
  {
   "cell_type": "code",
   "execution_count": 27,
   "metadata": {},
   "outputs": [
    {
     "name": "stdout",
     "output_type": "stream",
     "text": [
      "Naives Bayes Precision Score: 58.33%\n",
      "Naives Bayes Recall Score: 76.37%\n",
      "Naives Bayes F-Score Score: 66.14%\n"
     ]
    },
    {
     "name": "stderr",
     "output_type": "stream",
     "text": [
      "/Users/julianalexander/opt/anaconda3/lib/python3.8/site-packages/sklearn/metrics/_classification.py:1221: UndefinedMetricWarning: Precision and F-score are ill-defined and being set to 0.0 in labels with no predicted samples. Use `zero_division` parameter to control this behavior.\n",
      "  _warn_prf(average, modifier, msg_start, len(result))\n"
     ]
    }
   ],
   "source": [
    "mnb_scores = precision_recall_fscore_support(Test_Y_2, predictions_NB, average='weighted')\n",
    "print(f'Naives Bayes Precision Score: {mnb_scores[0]*100:.2f}%')\n",
    "print(f'Naives Bayes Recall Score: {mnb_scores[1]*100:.2f}%')\n",
    "print(f'Naives Bayes F-Score Score: {mnb_scores[2]*100:.2f}%')"
   ]
  },
  {
   "cell_type": "markdown",
   "metadata": {},
   "source": [
    "**Naive Bayes Predictions - Confusion Matrix**"
   ]
  },
  {
   "cell_type": "code",
   "execution_count": 28,
   "metadata": {
    "colab": {
     "base_uri": "https://localhost:8080/",
     "height": 516
    },
    "executionInfo": {
     "elapsed": 605,
     "status": "ok",
     "timestamp": 1624300388667,
     "user": {
      "displayName": "Aa Bb",
      "photoUrl": "https://lh3.googleusercontent.com/a-/AOh14GgxTwlWxf1ISkjEb1iiMdFk7b1T9SqsvitEu42Q=s64",
      "userId": "00247581621828842951"
     },
     "user_tz": -120
    },
    "id": "agpzZeu4xbRA",
    "outputId": "00046191-e5e4-4f8d-afa0-5603537c464c"
   },
   "outputs": [
    {
     "data": {
      "image/png": "[encoded data removed]",
      "text/plain": [
       "<Figure size 576x576 with 1 Axes>"
      ]
     },
     "metadata": {
      "needs_background": "light"
     },
     "output_type": "display_data"
    }
   ],
   "source": [
    "from sklearn.metrics import confusion_matrix\n",
    "# import matplotlib data visualization library\n",
    "import matplotlib.pyplot as plt\n",
    "import seaborn as sns\n",
    "\n",
    "# determine the prediction confusion matrix\n",
    "mat = confusion_matrix(Test_Y_2, predictions_NB)\n",
    "\n",
    "# init the plot\n",
    "plt.figure(figsize=(8, 8))\n",
    "\n",
    "# plot confusion matrix heatmap\n",
    "sns.heatmap(mat.T, square=True, annot=True, fmt='d', cbar=False, cmap='BuGn_r')\n",
    "\n",
    "# add plot axis labels\n",
    "plt.xlabel('[true class label $y_{i}$]')\n",
    "plt.ylabel('[predicted class label $y_{i}\\'$]')\n",
    "plt.tick_params(axis='both', which='major', labelsize=8, labelbottom = False, bottom=False, top = False, left = False, labeltop=True)\n",
    "\n",
    "# add plot title\n",
    "plt.title('Naive Bayes Predictions - Confusion Matrix');"
   ]
  },
  {
   "cell_type": "markdown",
   "metadata": {
    "id": "oRpcVjLDxbRB"
   },
   "source": [
    "## B.2. Support Vector Machines Classifier (SVM)"
   ]
  },
  {
   "cell_type": "code",
   "execution_count": 29,
   "metadata": {
    "colab": {
     "base_uri": "https://localhost:8080/"
    },
    "executionInfo": {
     "elapsed": 2246,
     "status": "ok",
     "timestamp": 1624301422040,
     "user": {
      "displayName": "Aa Bb",
      "photoUrl": "https://lh3.googleusercontent.com/a-/AOh14GgxTwlWxf1ISkjEb1iiMdFk7b1T9SqsvitEu42Q=s64",
      "userId": "00247581621828842951"
     },
     "user_tz": -120
    },
    "id": "1LkVJYr4xbRB",
    "outputId": "d48c966d-3d0f-4d8f-c54e-13089c03be26"
   },
   "outputs": [
    {
     "name": "stdout",
     "output_type": "stream",
     "text": [
      "SVM Accuracy Score: 76.87%\n"
     ]
    }
   ],
   "source": [
    "# Classifier - Algorithm - SVM\n",
    "# fit the training dataset on the classifier\n",
    "SVM = SVC(C=1.0, kernel='linear', degree=3, gamma='auto')\n",
    "SVM.fit(Train_X_Tfidf,Train_Y_2)\n",
    "# predict the labels on validation dataset\n",
    "predictions_SVM = SVM.predict(Test_X_Tfidf)\n",
    "# Use accuracy_score function to get the accuracy\n",
    "# print(\"SVM Accuracy Score -> \",accuracy_score(predictions_SVM, Test_Y_2)*100)\n",
    "SVM_accuracy = accuracy_score(predictions_SVM, Test_Y_2)*100\n",
    "print(f'SVM Accuracy Score: {SVM_accuracy:.2f}%')"
   ]
  },
  {
   "cell_type": "markdown",
   "metadata": {},
   "source": [
    "**Precision, Recall & F-score**"
   ]
  },
  {
   "cell_type": "code",
   "execution_count": 30,
   "metadata": {},
   "outputs": [],
   "source": [
    "# precision_recall_fscore_support(predictions_SVM, Test_Y_2, average='weighted')"
   ]
  },
  {
   "cell_type": "code",
   "execution_count": 31,
   "metadata": {},
   "outputs": [
    {
     "name": "stdout",
     "output_type": "stream",
     "text": [
      "SVM Precision Score: 75.19%\n",
      "SVM Recall Score: 76.87%\n",
      "SVM F-Score Score: 68.30%\n"
     ]
    }
   ],
   "source": [
    "svm_scores = precision_recall_fscore_support(Test_Y_2, predictions_SVM, average='weighted')\n",
    "print(f'SVM Precision Score: {svm_scores[0]*100:.2f}%')\n",
    "print(f'SVM Recall Score: {svm_scores[1]*100:.2f}%')\n",
    "print(f'SVM F-Score Score: {svm_scores[2]*100:.2f}%')"
   ]
  },
  {
   "cell_type": "markdown",
   "metadata": {},
   "source": [
    "**SVM Predictions - Confusion Matrix**"
   ]
  },
  {
   "cell_type": "code",
   "execution_count": 32,
   "metadata": {
    "colab": {
     "base_uri": "https://localhost:8080/",
     "height": 516
    },
    "executionInfo": {
     "elapsed": 625,
     "status": "ok",
     "timestamp": 1624301426645,
     "user": {
      "displayName": "Aa Bb",
      "photoUrl": "https://lh3.googleusercontent.com/a-/AOh14GgxTwlWxf1ISkjEb1iiMdFk7b1T9SqsvitEu42Q=s64",
      "userId": "00247581621828842951"
     },
     "user_tz": -120
    },
    "id": "SNfEVjKJxbRB",
    "outputId": "2086964a-3e87-49ca-9b46-39aea9cf56b6"
   },
   "outputs": [
    {
     "data": {
      "image/png": "[encoded data removed]",
      "text/plain": [
       "<Figure size 576x576 with 1 Axes>"
      ]
     },
     "metadata": {
      "needs_background": "light"
     },
     "output_type": "display_data"
    }
   ],
   "source": [
    "from sklearn.metrics import confusion_matrix\n",
    "\n",
    "# import matplotlib data visualization library\n",
    "\n",
    "import matplotlib.pyplot as plt\n",
    "import seaborn as sns\n",
    "\n",
    "# determine the prediction confusion matrix\n",
    "mat = confusion_matrix(Test_Y_2, predictions_SVM)\n",
    "\n",
    "# init the plot\n",
    "plt.figure(figsize=(8, 8))\n",
    "\n",
    "\n",
    "# plot confusion matrix heatmap\n",
    "sns.heatmap(mat.T, square=True, annot=True, fmt='d', cbar=False, cmap='BuGn_r')\n",
    "\n",
    "# add plot axis labels\n",
    "plt.xlabel('[true class label $y_{i}$]')\n",
    "plt.ylabel('[predicted class label $y_{i}\\'$]')\n",
    "plt.tick_params(axis='both', which='major', labelsize=8, labelbottom = False, bottom=False, top = False, left = False, labeltop=True)\n",
    "\n",
    "# add plot title\n",
    "plt.title('SVM Predictions - Confusion Matrix');"
   ]
  },
  {
   "cell_type": "markdown",
   "metadata": {
    "id": "DZFjA5GI2_M4"
   },
   "source": [
    "## C. Feature Extraction: CountVectorizer"
   ]
  },
  {
   "cell_type": "code",
   "execution_count": 33,
   "metadata": {
    "executionInfo": {
     "elapsed": 242,
     "status": "ok",
     "timestamp": 1624301434056,
     "user": {
      "displayName": "Aa Bb",
      "photoUrl": "https://lh3.googleusercontent.com/a-/AOh14GgxTwlWxf1ISkjEb1iiMdFk7b1T9SqsvitEu42Q=s64",
      "userId": "00247581621828842951"
     },
     "user_tz": -120
    },
    "id": "85WsGGmF2oiD"
   },
   "outputs": [],
   "source": [
    "from sklearn.feature_extraction.text import CountVectorizer\n",
    "import nltk\n",
    "vectorizer = CountVectorizer(min_df = 0.05, stop_words='english', ngram_range = (1,1))\n",
    "X = vectorizer.fit_transform(Corpus)\n",
    "\n",
    "X = X.toarray()"
   ]
  },
  {
   "cell_type": "markdown",
   "metadata": {},
   "source": [
    "## C.1. Support Vector Machines Classifier (SVM)"
   ]
  },
  {
   "cell_type": "code",
   "execution_count": 34,
   "metadata": {
    "colab": {
     "base_uri": "https://localhost:8080/"
    },
    "executionInfo": {
     "elapsed": 1364,
     "status": "ok",
     "timestamp": 1624301437668,
     "user": {
      "displayName": "Aa Bb",
      "photoUrl": "https://lh3.googleusercontent.com/a-/AOh14GgxTwlWxf1ISkjEb1iiMdFk7b1T9SqsvitEu42Q=s64",
      "userId": "00247581621828842951"
     },
     "user_tz": -120
    },
    "id": "BiZDyU0EByaf",
    "outputId": "4eba2619-5a88-43b5-fa52-43580f78a4ae"
   },
   "outputs": [
    {
     "name": "stdout",
     "output_type": "stream",
     "text": [
      "Model classification accuracy: 65.22%\n"
     ]
    }
   ],
   "source": [
    "from sklearn.svm import SVC\n",
    "from sklearn import metrics\n",
    "\n",
    "# Creating an obect containing parametrisation setup for SVM \n",
    "svm = SVC(kernel='poly', degree = 2, C=100, random_state=1234)\n",
    "\n",
    "vectorizer.fit(Corpus)\n",
    "Train_X_count = vectorizer.transform(Train_X)\n",
    "Test_X_count = vectorizer.transform(Test_X)\n",
    "\n",
    "# Training an SVM model with parameters set in the previous  step\n",
    "svm.fit(Train_X_count, Train_Y_2)\n",
    "\n",
    "# Calculating model predictions on evaluation data\n",
    "y_pred = svm.predict(Test_X_count)\n",
    "\n",
    "# Accuracy on evaluation data\n",
    "eval_accuracy = metrics.accuracy_score(Test_Y_2, y_pred) * 100\n",
    "print(f'Model classification accuracy: {eval_accuracy:.2f}%')"
   ]
  },
  {
   "cell_type": "markdown",
   "metadata": {},
   "source": [
    "**Precision, Recall & F-score**"
   ]
  },
  {
   "cell_type": "code",
   "execution_count": 35,
   "metadata": {},
   "outputs": [],
   "source": [
    "# precision_recall_fscore_support(Test_Y_2, y_pred, average='weighted')"
   ]
  },
  {
   "cell_type": "code",
   "execution_count": 36,
   "metadata": {},
   "outputs": [
    {
     "name": "stdout",
     "output_type": "stream",
     "text": [
      "SVM Precision Score: 62.84%\n",
      "SVM Recall Score: 65.22%\n",
      "SVM F-Score Score: 63.90%\n"
     ]
    }
   ],
   "source": [
    "svm_scores_2 = precision_recall_fscore_support(Test_Y_2, y_pred, average='weighted')\n",
    "print(f'SVM Precision Score: {svm_scores_2[0]*100:.2f}%')\n",
    "print(f'SVM Recall Score: {svm_scores_2[1]*100:.2f}%')\n",
    "print(f'SVM F-Score Score: {svm_scores_2[2]*100:.2f}%')"
   ]
  },
  {
   "cell_type": "markdown",
   "metadata": {},
   "source": [
    "**SVM Predictions - Confusion Matrix**"
   ]
  },
  {
   "cell_type": "code",
   "execution_count": 37,
   "metadata": {
    "colab": {
     "base_uri": "https://localhost:8080/",
     "height": 516
    },
    "executionInfo": {
     "elapsed": 815,
     "status": "ok",
     "timestamp": 1624301444130,
     "user": {
      "displayName": "Aa Bb",
      "photoUrl": "https://lh3.googleusercontent.com/a-/AOh14GgxTwlWxf1ISkjEb1iiMdFk7b1T9SqsvitEu42Q=s64",
      "userId": "00247581621828842951"
     },
     "user_tz": -120
    },
    "id": "ZqvUOAVyKjcU",
    "outputId": "04fb4d94-7c7c-472d-e22e-88644a1e223e"
   },
   "outputs": [
    {
     "data": {
      "image/png": "[encoded data removed]",
      "text/plain": [
       "<Figure size 576x576 with 1 Axes>"
      ]
     },
     "metadata": {
      "needs_background": "light"
     },
     "output_type": "display_data"
    }
   ],
   "source": [
    "from sklearn.metrics import confusion_matrix\n",
    "\n",
    "# import matplotlib data visualization library\n",
    "import matplotlib.pyplot as plt\n",
    "import seaborn as sns\n",
    "\n",
    "# determine the prediction confusion matrix\n",
    "mat = confusion_matrix(Test_Y_2, y_pred)\n",
    "\n",
    "# init the plot\n",
    "plt.figure(figsize=(8, 8))\n",
    "\n",
    "# plot confusion matrix heatmap\n",
    "sns.heatmap(mat.T, square=True, annot=True, fmt='d', cbar=False, cmap='BuGn_r')\n",
    "\n",
    "# add plot axis labels\n",
    "plt.xlabel('[true class label $y_{i}$]')\n",
    "plt.ylabel('[predicted class label $y_{i}\\'$]')\n",
    "plt.tick_params(axis='both', which='major', labelsize=8, labelbottom = False, bottom=False, top = False, left = False, labeltop=True)\n",
    "\n",
    "# add plot title\n",
    "plt.title('SVM Predictions - Confusion Matrix');"
   ]
  },
  {
   "cell_type": "markdown",
   "metadata": {
    "id": "wSpumbD86YTY"
   },
   "source": [
    "# D. Hierarchical Classification (1. Naive Bayes, 2. SVM)"
   ]
  },
  {
   "cell_type": "markdown",
   "metadata": {},
   "source": [
    "## D.1. First-Classification in Neutral/Non-Neutral with Naive Bayes (MultinomialNB)"
   ]
  },
  {
   "cell_type": "code",
   "execution_count": 38,
   "metadata": {
    "colab": {
     "base_uri": "https://localhost:8080/"
    },
    "executionInfo": {
     "elapsed": 245,
     "status": "ok",
     "timestamp": 1624301882902,
     "user": {
      "displayName": "Aa Bb",
      "photoUrl": "https://lh3.googleusercontent.com/a-/AOh14GgxTwlWxf1ISkjEb1iiMdFk7b1T9SqsvitEu42Q=s64",
      "userId": "00247581621828842951"
     },
     "user_tz": -120
    },
    "id": "aPXuA3jQ72um",
    "outputId": "f9c6c565-a52a-41dd-e886-13f9546bcdad"
   },
   "outputs": [
    {
     "name": "stdout",
     "output_type": "stream",
     "text": [
      "Naive Bayes Accuracy Score ->  76.37271214642263\n"
     ]
    }
   ],
   "source": [
    "# fit the training dataset on the NB classifier\n",
    "Naive = naive_bayes.MultinomialNB()\n",
    "Naive.fit(Train_X_Tfidf,Train_Y_1)\n",
    "# predict the labels on validation dataset\n",
    "predictions_NB = Naive.predict(Test_X_Tfidf)\n",
    "# Use accuracy_score function to get the accuracy\n",
    "print(\"Naive Bayes Accuracy Score -> \",accuracy_score(predictions_NB, Test_Y_1)*100)"
   ]
  },
  {
   "cell_type": "markdown",
   "metadata": {
    "id": "h1cjcKpS72u0"
   },
   "source": [
    "**Precision, Recall & F-score**"
   ]
  },
  {
   "cell_type": "code",
   "execution_count": null,
   "metadata": {},
   "outputs": [],
   "source": [
    "# precision_recall_fscore_support(predictions_NB, Test_Y_1, average='weighted')"
   ]
  },
  {
   "cell_type": "code",
   "execution_count": 39,
   "metadata": {
    "colab": {
     "base_uri": "https://localhost:8080/"
    },
    "executionInfo": {
     "elapsed": 285,
     "status": "ok",
     "timestamp": 1624301894962,
     "user": {
      "displayName": "Aa Bb",
      "photoUrl": "https://lh3.googleusercontent.com/a-/AOh14GgxTwlWxf1ISkjEb1iiMdFk7b1T9SqsvitEu42Q=s64",
      "userId": "00247581621828842951"
     },
     "user_tz": -120
    },
    "id": "koKAo3FJ72u1",
    "outputId": "732325e0-5c72-4776-c316-d0dac940ffb9"
   },
   "outputs": [
    {
     "name": "stdout",
     "output_type": "stream",
     "text": [
      "Naives Bayes Precision Score: 58.33%\n",
      "Naives Bayes Recall Score: 76.37%\n",
      "Naives Bayes F-Score Score: 66.14%\n"
     ]
    },
    {
     "name": "stderr",
     "output_type": "stream",
     "text": [
      "/Users/julianalexander/opt/anaconda3/lib/python3.8/site-packages/sklearn/metrics/_classification.py:1221: UndefinedMetricWarning: Precision and F-score are ill-defined and being set to 0.0 in labels with no predicted samples. Use `zero_division` parameter to control this behavior.\n",
      "  _warn_prf(average, modifier, msg_start, len(result))\n"
     ]
    }
   ],
   "source": [
    "mnb_scores_2 = precision_recall_fscore_support(Test_Y_1, predictions_NB, average='weighted')\n",
    "print(f'Naives Bayes Precision Score: {mnb_scores_2[0]*100:.2f}%')\n",
    "print(f'Naives Bayes Recall Score: {mnb_scores_2[1]*100:.2f}%')\n",
    "print(f'Naives Bayes F-Score Score: {mnb_scores_2[2]*100:.2f}%')"
   ]
  },
  {
   "cell_type": "markdown",
   "metadata": {},
   "source": [
    "**Naive Bayes Predictions - Confusion Matrix**"
   ]
  },
  {
   "cell_type": "code",
   "execution_count": 40,
   "metadata": {
    "colab": {
     "base_uri": "https://localhost:8080/",
     "height": 516
    },
    "executionInfo": {
     "elapsed": 741,
     "status": "ok",
     "timestamp": 1624301903230,
     "user": {
      "displayName": "Aa Bb",
      "photoUrl": "https://lh3.googleusercontent.com/a-/AOh14GgxTwlWxf1ISkjEb1iiMdFk7b1T9SqsvitEu42Q=s64",
      "userId": "00247581621828842951"
     },
     "user_tz": -120
    },
    "id": "GvCEsvQF72u1",
    "outputId": "a8661572-bee1-477e-fdbc-83a290180a91"
   },
   "outputs": [
    {
     "data": {
      "image/png": "[encoded data removed]",
      "text/plain": [
       "<Figure size 576x576 with 1 Axes>"
      ]
     },
     "metadata": {
      "needs_background": "light"
     },
     "output_type": "display_data"
    }
   ],
   "source": [
    "from sklearn.metrics import confusion_matrix\n",
    "# import matplotlib data visualization library\n",
    "import matplotlib.pyplot as plt\n",
    "import seaborn as sns\n",
    "\n",
    "# determine the prediction confusion matrix\n",
    "mat = confusion_matrix(Test_Y_1, predictions_NB)\n",
    "\n",
    "# init the plot\n",
    "plt.figure(figsize=(8, 8))\n",
    "\n",
    "# plot confusion matrix heatmap\n",
    "sns.heatmap(mat.T, square=True, annot=True, fmt='d', cbar=False, cmap='BuGn_r')\n",
    "\n",
    "# add plot axis labels\n",
    "plt.xlabel('[true class label $y_{i}$]')\n",
    "plt.ylabel('[predicted class label $y_{i}\\'$]')\n",
    "plt.tick_params(axis='both', which='major', labelsize=8, labelbottom = False, bottom=False, top = False, left = False, labeltop=True)\n",
    "\n",
    "# add plot title\n",
    "plt.title('Naive Bayes Predictions - Confusion Matrix');"
   ]
  },
  {
   "cell_type": "markdown",
   "metadata": {},
   "source": [
    "## D.2. Hierarchical Classification 1: Neutral/Non-Neutral with Support Vector Machines (SVM)"
   ]
  },
  {
   "cell_type": "code",
   "execution_count": 41,
   "metadata": {
    "colab": {
     "base_uri": "https://localhost:8080/"
    },
    "executionInfo": {
     "elapsed": 2121,
     "status": "ok",
     "timestamp": 1624302417434,
     "user": {
      "displayName": "Aa Bb",
      "photoUrl": "https://lh3.googleusercontent.com/a-/AOh14GgxTwlWxf1ISkjEb1iiMdFk7b1T9SqsvitEu42Q=s64",
      "userId": "00247581621828842951"
     },
     "user_tz": -120
    },
    "id": "g-ABM6XR8LO8",
    "outputId": "be19191d-f4e3-4c88-9802-14175df0287e"
   },
   "outputs": [
    {
     "name": "stdout",
     "output_type": "stream",
     "text": [
      "SVM Accuracy Score ->  74.04326123128119\n"
     ]
    }
   ],
   "source": [
    "# Classifier - Algorithm - SVM\n",
    "# fit the training dataset on the classifier\n",
    "SVM_hierarchical_1 = SVC(C=100, kernel='linear', degree=3, gamma='auto')\n",
    "SVM_hierarchical_1.fit(Train_X_Tfidf,Train_Y_1)\n",
    "# predict the labels on validation dataset\n",
    "predictions_SVM = SVM_hierarchical_1.predict(Test_X_Tfidf)\n",
    "# Use accuracy_score function to get the accuracy\n",
    "print(\"SVM Accuracy Score -> \",accuracy_score(predictions_SVM, Test_Y_1)*100)"
   ]
  },
  {
   "cell_type": "markdown",
   "metadata": {},
   "source": [
    "**Precision, Recall & F-score**"
   ]
  },
  {
   "cell_type": "code",
   "execution_count": 42,
   "metadata": {},
   "outputs": [],
   "source": [
    "# precision_recall_fscore_support(predictions_SVM, Test_Y_1, average='weighted')"
   ]
  },
  {
   "cell_type": "code",
   "execution_count": 43,
   "metadata": {},
   "outputs": [
    {
     "name": "stdout",
     "output_type": "stream",
     "text": [
      "SVM Precision Score: 73.05%\n",
      "SVM Recall Score: 74.04%\n",
      "SVM F-Score Score: 73.49%\n"
     ]
    }
   ],
   "source": [
    "svm_scores_3 = precision_recall_fscore_support(Test_Y_1, predictions_SVM, average='weighted')\n",
    "print(f'SVM Precision Score: {svm_scores_3[0]*100:.2f}%')\n",
    "print(f'SVM Recall Score: {svm_scores_3[1]*100:.2f}%')\n",
    "print(f'SVM F-Score Score: {svm_scores_3[2]*100:.2f}%')"
   ]
  },
  {
   "cell_type": "markdown",
   "metadata": {},
   "source": [
    "**SVM Predictions - Confusion Matrix**"
   ]
  },
  {
   "cell_type": "code",
   "execution_count": 44,
   "metadata": {
    "colab": {
     "base_uri": "https://localhost:8080/",
     "height": 516
    },
    "executionInfo": {
     "elapsed": 697,
     "status": "ok",
     "timestamp": 1624302423267,
     "user": {
      "displayName": "Aa Bb",
      "photoUrl": "https://lh3.googleusercontent.com/a-/AOh14GgxTwlWxf1ISkjEb1iiMdFk7b1T9SqsvitEu42Q=s64",
      "userId": "00247581621828842951"
     },
     "user_tz": -120
    },
    "id": "VHn1GvJg8LPM",
    "outputId": "3d87af25-9d6a-44d4-d89b-a77fc8a57bc1"
   },
   "outputs": [
    {
     "data": {
      "image/png": "[encoded data removed]",
      "text/plain": [
       "<Figure size 576x576 with 1 Axes>"
      ]
     },
     "metadata": {
      "needs_background": "light"
     },
     "output_type": "display_data"
    }
   ],
   "source": [
    "from sklearn.metrics import confusion_matrix\n",
    "\n",
    "# import matplotlib data visualization library\n",
    "\n",
    "import matplotlib.pyplot as plt\n",
    "import seaborn as sns\n",
    "\n",
    "# determine the prediction confusion matrix\n",
    "mat = confusion_matrix(Test_Y_1, predictions_SVM)\n",
    "\n",
    "# init the plot\n",
    "plt.figure(figsize=(8, 8))\n",
    "\n",
    "\n",
    "# plot confusion matrix heatmap\n",
    "sns.heatmap(mat.T, square=True, annot=True, fmt='d', cbar=False, cmap='BuGn_r')\n",
    "\n",
    "# add plot axis labels\n",
    "plt.xlabel('[true class label $y_{i}$]')\n",
    "plt.ylabel('[predicted class label $y_{i}\\'$]')\n",
    "plt.tick_params(axis='both', which='major', labelsize=8, labelbottom = False, bottom=False, top = False, left = False, labeltop=True)\n",
    "\n",
    "# add plot title\n",
    "plt.title('SVM Predictions - Confusion Matrix');"
   ]
  },
  {
   "cell_type": "markdown",
   "metadata": {},
   "source": [
    "## D.3. Hierarchical Classification 2: Positive/Negative with Support Vector Machines (SVM)"
   ]
  },
  {
   "cell_type": "code",
   "execution_count": 45,
   "metadata": {
    "executionInfo": {
     "elapsed": 249,
     "status": "ok",
     "timestamp": 1624303039176,
     "user": {
      "displayName": "Aa Bb",
      "photoUrl": "https://lh3.googleusercontent.com/a-/AOh14GgxTwlWxf1ISkjEb1iiMdFk7b1T9SqsvitEu42Q=s64",
      "userId": "00247581621828842951"
     },
     "user_tz": -120
    },
    "id": "07zB5CVk-5to"
   },
   "outputs": [],
   "source": [
    "indices_train = Train_Y_2 != 2\n",
    "indices_test = Test_Y_2 != 2"
   ]
  },
  {
   "cell_type": "code",
   "execution_count": 46,
   "metadata": {
    "executionInfo": {
     "elapsed": 241,
     "status": "ok",
     "timestamp": 1624303132068,
     "user": {
      "displayName": "Aa Bb",
      "photoUrl": "https://lh3.googleusercontent.com/a-/AOh14GgxTwlWxf1ISkjEb1iiMdFk7b1T9SqsvitEu42Q=s64",
      "userId": "00247581621828842951"
     },
     "user_tz": -120
    },
    "id": "Z_RjfW1X_Ks7"
   },
   "outputs": [],
   "source": [
    "Train_Y_2 = Train_Y_2[indices_train]\n",
    "Train_X = Train_X[indices_train]\n",
    "\n",
    "Test_Y_2 = Test_Y_2[indices_test]\n",
    "Test_X = Test_X[indices_test]"
   ]
  },
  {
   "cell_type": "code",
   "execution_count": 47,
   "metadata": {
    "colab": {
     "base_uri": "https://localhost:8080/"
    },
    "executionInfo": {
     "elapsed": 254,
     "status": "ok",
     "timestamp": 1624303620060,
     "user": {
      "displayName": "Aa Bb",
      "photoUrl": "https://lh3.googleusercontent.com/a-/AOh14GgxTwlWxf1ISkjEb1iiMdFk7b1T9SqsvitEu42Q=s64",
      "userId": "00247581621828842951"
     },
     "user_tz": -120
    },
    "id": "jcKC0Sw1BfkQ",
    "outputId": "f4e14031-e995-4958-a523-90e61b8b4eaa"
   },
   "outputs": [
    {
     "name": "stdout",
     "output_type": "stream",
     "text": [
      "SVM Accuracy Score ->  50.70422535211267\n"
     ]
    }
   ],
   "source": [
    "# Classifier - Algorithm - SVM\n",
    "# fit the training dataset on the classifier\n",
    "SVM_hierarchical_2 = SVC(C=1000, kernel='poly', degree=3, gamma='auto')\n",
    "\n",
    "Train_X_count = vectorizer.transform(Train_X)\n",
    "Test_X_count = vectorizer.transform(Test_X)\n",
    "\n",
    "SVM_hierarchical_2.fit(Train_X_count,Train_Y_2)\n",
    "# predict the labels on validation dataset\n",
    "predictions_SVM = SVM_hierarchical_2.predict(Test_X_count)\n",
    "# Use accuracy_score function to get the accuracy\n",
    "print(\"SVM Accuracy Score -> \",accuracy_score(predictions_SVM, Test_Y_2)*100)"
   ]
  },
  {
   "cell_type": "markdown",
   "metadata": {},
   "source": [
    "**Precision, Recall & F-score**"
   ]
  },
  {
   "cell_type": "code",
   "execution_count": 48,
   "metadata": {},
   "outputs": [],
   "source": [
    "# precision_recall_fscore_support(predictions_SVM, Test_Y_2, average='weighted')"
   ]
  },
  {
   "cell_type": "code",
   "execution_count": 49,
   "metadata": {},
   "outputs": [
    {
     "name": "stdout",
     "output_type": "stream",
     "text": [
      "SVM Precision Score: 43.86%\n",
      "SVM Recall Score: 50.70%\n",
      "SVM F-Score Score: 42.85%\n"
     ]
    }
   ],
   "source": [
    "svm_scores_4 = precision_recall_fscore_support(Test_Y_2, predictions_SVM, average='weighted')\n",
    "print(f'SVM Precision Score: {svm_scores_4[0]*100:.2f}%')\n",
    "print(f'SVM Recall Score: {svm_scores_4[1]*100:.2f}%')\n",
    "print(f'SVM F-Score Score: {svm_scores_4[2]*100:.2f}%')"
   ]
  },
  {
   "cell_type": "markdown",
   "metadata": {},
   "source": [
    "**SVM Predictions - Confusion Matrix**"
   ]
  },
  {
   "cell_type": "code",
   "execution_count": 50,
   "metadata": {
    "colab": {
     "base_uri": "https://localhost:8080/",
     "height": 516
    },
    "executionInfo": {
     "elapsed": 487,
     "status": "ok",
     "timestamp": 1624303622873,
     "user": {
      "displayName": "Aa Bb",
      "photoUrl": "https://lh3.googleusercontent.com/a-/AOh14GgxTwlWxf1ISkjEb1iiMdFk7b1T9SqsvitEu42Q=s64",
      "userId": "00247581621828842951"
     },
     "user_tz": -120
    },
    "id": "ggN8hQfOBfkR",
    "outputId": "773d8ef8-12ca-4f47-b331-5f251dbb5e15"
   },
   "outputs": [
    {
     "data": {
      "image/png": "[encoded data removed]",
      "text/plain": [
       "<Figure size 576x576 with 1 Axes>"
      ]
     },
     "metadata": {
      "needs_background": "light"
     },
     "output_type": "display_data"
    }
   ],
   "source": [
    "# determine the prediction confusion matrix\n",
    "mat = confusion_matrix(Test_Y_2, predictions_SVM)\n",
    "\n",
    "# init the plot\n",
    "plt.figure(figsize=(8, 8))\n",
    "\n",
    "# plot confusion matrix heatmap\n",
    "sns.heatmap(mat.T, square=True, annot=True, fmt='d', cbar=False, cmap='BuGn_r')\n",
    "\n",
    "# add plot axis labels\n",
    "plt.xlabel('[true class label $y_{i}$]')\n",
    "plt.ylabel('[predicted class label $y_{i}\\'$]')\n",
    "plt.tick_params(axis='both', which='major', labelsize=8, labelbottom = False, bottom=False, top = False, left = False, labeltop=True)\n",
    "\n",
    "# add plot title\n",
    "plt.title('SVM Predictions - Confusion Matrix');"
   ]
  }
 ],
 "metadata": {
  "colab": {
   "collapsed_sections": [],
   "name": "TextMining_3.0.ipynb",
   "provenance": []
  },
  "kernelspec": {
   "display_name": "Python 3",
   "language": "python",
   "name": "python3"
  },
  "language_info": {
   "codemirror_mode": {
    "name": "ipython",
    "version": 3
   },
   "file_extension": ".py",
   "mimetype": "text/x-python",
   "name": "python",
   "nbconvert_exporter": "python",
   "pygments_lexer": "ipython3",
   "version": "3.8.5"
  }
 },
 "nbformat": 4,
 "nbformat_minor": 1
}
